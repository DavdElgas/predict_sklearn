{
  "cells": [
    {
      "cell_type": "markdown",
      "metadata": {
        "id": "view-in-github",
        "colab_type": "text"
      },
      "source": [
        "<a href=\"https://colab.research.google.com/github/david91107/predict_sklearn/blob/main/DTC_model_post_process_data.ipynb\" target=\"_parent\"><img src=\"https://colab.research.google.com/assets/colab-badge.svg\" alt=\"Open In Colab\"/></a>"
      ]
    },
    {
      "cell_type": "markdown",
      "metadata": {
        "id": "bmPOAm2W_I9V"
      },
      "source": [
        "In this Jupyter notebook, I present a sophisticated AI model designed to identify and quantify the key factors contributing to customer churn in subscription-based services. This model epitomizes my adeptness in leveraging advanced machine learning techniques and data analytics to solve real-world business problems. By meticulously preprocessing the dataset, employing feature engineering, and experimenting with various machine learning algorithms, I have developed a model that not only predicts churn with high accuracy but also provides insightful interpretations of the underlying causes. This project demonstrates my proficiency in Python programming, deep understanding of predictive modeling, and ability to translate complex data insights into actionable business strategies. It stands as a testament to my capacity to add value in a Data Science role, where analytical rigor and practical problem-solving skills are paramount."
      ]
    },
    {
      "cell_type": "markdown",
      "metadata": {
        "id": "D3bBVbNF7M3X"
      },
      "source": [
        "# Predictive churn model for a subscription service."
      ]
    },
    {
      "cell_type": "markdown",
      "metadata": {
        "id": "DyCwjxuU9g6r"
      },
      "source": [
        "1.   Project Introduction\n",
        "*   Overview of the project goal\n",
        "*   Importance of churn prediction in subscription-based service\n",
        "<br>\n",
        "<br>\n",
        "2.   Data Ingestion\n",
        "\n",
        "*   Sourcing the data (APIs, databases, CSV files, etc.)\n",
        "*   Loading data into the environment\n",
        "*   Data Cleaning and Preprocessing\n",
        "<br>\n",
        "<br>\n",
        "3.   Handling missing values\n",
        "*   Data type conversion (if necessary)\n",
        "*   Outlier detection and treatment\n",
        "*   Exploratory Data Analysis (EDA)\n",
        "<br>\n",
        "<br>\n",
        "4.   Statistical summaries of the dataset\n",
        "*   Visualization of key metrics and relationships\n",
        "*   Initial insights and identification of potential predictors of churn\n",
        "*   Feature Engineering\n",
        "<br>\n",
        "<br>\n",
        "5.   Creation of new features based on existing data\n",
        "*   Feature transformation (scaling, encoding categorical variables, etc.)\n",
        "*   Feature selection for the model\n",
        "<br>\n",
        "<br>\n",
        "6.   Model Selection\n",
        "*   Overview of candidate machine learning models\n",
        "*   Criteria for model selection (accuracy, interpretability, etc.)\n",
        "<br>\n",
        "<br>\n",
        "7.   Model Training and Validation\n",
        "*   Splitting data into training and testing sets\n",
        "*   Model training and hyperparameter tuning\n",
        "*   Model validation and performance assessment (using metrics like accuracy, precision, recall, F1-score, ROC-AUC, etc.)\n",
        "<br>\n",
        "<br>\n",
        "8.   Model Interpretation and Insights\n",
        "*   Importance of features in the model\n",
        "*   Interpretation of the model’s predictions\n",
        "*   Business insights drawn from the model’s results\n",
        "<br>\n",
        "<br>\n",
        "9.   Conclusion and Recommendations\n",
        "*   Summary of findings\n",
        "*   Potential strategies to reduce customer churn based on insights\n",
        "*   Future work and improvements for the model\n",
        "<br>\n",
        "<br>\n",
        "10.   Appendices and References\n",
        "*   Code documentation\n",
        "*   References to libraries and frameworks used\n",
        "*   Additional resources"
      ]
    },
    {
      "cell_type": "markdown",
      "metadata": {
        "id": "gzPjStWb_OiW"
      },
      "source": [
        "##Project Introduction"
      ]
    },
    {
      "cell_type": "markdown",
      "metadata": {
        "id": "MWhFo6uasTPG"
      },
      "source": [
        "The project uses commercial data from a subscription service to indentify factors and their importance in reducing customer service cancellations (aka, \"churn\"). Where possible, this project will leverage scikit-learn."
      ]
    },
    {
      "cell_type": "markdown",
      "metadata": {
        "id": "vvk4En_jBIbv"
      },
      "source": [
        "##Model Selection"
      ]
    },
    {
      "cell_type": "markdown",
      "metadata": {
        "id": "YemM0rxXrfuL"
      },
      "source": [
        "Mutiple models where consdiered for this project. Given the constraints of low compute costs, small dataset, imbalanced class and the need to identify feature weights, the following models were used:\n",
        "\n",
        "*   Logistic Regression<br>\n",
        "Pros: With a small dataset and limited compute resources, logistic regression is a great starting point due to its simplicity and low computational cost. It also provides direct insight into feature importance.<br>\n",
        "Cons: Its linear nature might not capture complex relationships.<br>\n",
        "<br>\n",
        "*   Decision Trees<br>\n",
        "Pros: They are relatively simple to understand and can provide clear insights into which features are most important in predicting churn.<br>\n",
        "Cons: Prone to overfitting, especially with small datasets.<br>\n",
        "<br>\n",
        "*   Random Forest<br>\n",
        "Pros: Can handle imbalanced classes better than many models and provides feature importance. It's also less likely to overfit compared to a single decision tree.<br>\n",
        "Cons: More computationally intensive than logistic regression or a single decision<br>\n",
        "<br>\n",
        "*   Gradient Boosting Machines <br>\n",
        "Pros: Often more effective than random forests, especially with small datasets. Provides feature importance.<br>\n",
        "Cons: Can be computationally expensive and prone to overfitting.<br>\n",
        "<br>\n",
        "\n",
        "Results for all models are shown and compared below."
      ]
    },
    {
      "cell_type": "markdown",
      "metadata": {
        "id": "dYnXMx8khjtI"
      },
      "source": [
        "##Data Ingestion"
      ]
    },
    {
      "cell_type": "code",
      "execution_count": 1,
      "metadata": {
        "colab": {
          "base_uri": "https://localhost:8080/"
        },
        "id": "R-rqyBKdYMol",
        "outputId": "594327f0-13c4-4fd2-975a-6c575dce277c"
      },
      "outputs": [
        {
          "output_type": "stream",
          "name": "stdout",
          "text": [
            "Requirement already satisfied: pip in /usr/local/lib/python3.10/dist-packages (23.1.2)\n",
            "Collecting pip\n",
            "  Downloading pip-23.3.2-py3-none-any.whl (2.1 MB)\n",
            "\u001b[2K     \u001b[90m━━━━━━━━━━━━━━━━━━━━━━━━━━━━━━━━━━━━━━━━\u001b[0m \u001b[32m2.1/2.1 MB\u001b[0m \u001b[31m11.2 MB/s\u001b[0m eta \u001b[36m0:00:00\u001b[0m\n",
            "\u001b[?25hInstalling collected packages: pip\n",
            "  Attempting uninstall: pip\n",
            "    Found existing installation: pip 23.1.2\n",
            "    Uninstalling pip-23.1.2:\n",
            "      Successfully uninstalled pip-23.1.2\n",
            "Successfully installed pip-23.3.2\n",
            "Requirement already satisfied: scikit-learn in /usr/local/lib/python3.10/dist-packages (1.2.2)\n",
            "Requirement already satisfied: numpy>=1.17.3 in /usr/local/lib/python3.10/dist-packages (from scikit-learn) (1.23.5)\n",
            "Requirement already satisfied: scipy>=1.3.2 in /usr/local/lib/python3.10/dist-packages (from scikit-learn) (1.11.4)\n",
            "Requirement already satisfied: joblib>=1.1.1 in /usr/local/lib/python3.10/dist-packages (from scikit-learn) (1.3.2)\n",
            "Requirement already satisfied: threadpoolctl>=2.0.0 in /usr/local/lib/python3.10/dist-packages (from scikit-learn) (3.2.0)\n",
            "\u001b[33mWARNING: Running pip as the 'root' user can result in broken permissions and conflicting behaviour with the system package manager. It is recommended to use a virtual environment instead: https://pip.pypa.io/warnings/venv\u001b[0m\u001b[33m\n",
            "\u001b[0mRequirement already satisfied: pandas==1.5.3 in /usr/local/lib/python3.10/dist-packages (1.5.3)\n",
            "Requirement already satisfied: python-dateutil>=2.8.1 in /usr/local/lib/python3.10/dist-packages (from pandas==1.5.3) (2.8.2)\n",
            "Requirement already satisfied: pytz>=2020.1 in /usr/local/lib/python3.10/dist-packages (from pandas==1.5.3) (2023.3.post1)\n",
            "Requirement already satisfied: numpy>=1.21.0 in /usr/local/lib/python3.10/dist-packages (from pandas==1.5.3) (1.23.5)\n",
            "Requirement already satisfied: six>=1.5 in /usr/local/lib/python3.10/dist-packages (from python-dateutil>=2.8.1->pandas==1.5.3) (1.16.0)\n",
            "\u001b[33mWARNING: Running pip as the 'root' user can result in broken permissions and conflicting behaviour with the system package manager. It is recommended to use a virtual environment instead: https://pip.pypa.io/warnings/venv\u001b[0m\u001b[33m\n",
            "\u001b[0mRequirement already satisfied: matplotlib in /usr/local/lib/python3.10/dist-packages (3.7.1)\n",
            "Requirement already satisfied: contourpy>=1.0.1 in /usr/local/lib/python3.10/dist-packages (from matplotlib) (1.2.0)\n",
            "Requirement already satisfied: cycler>=0.10 in /usr/local/lib/python3.10/dist-packages (from matplotlib) (0.12.1)\n",
            "Requirement already satisfied: fonttools>=4.22.0 in /usr/local/lib/python3.10/dist-packages (from matplotlib) (4.47.2)\n",
            "Requirement already satisfied: kiwisolver>=1.0.1 in /usr/local/lib/python3.10/dist-packages (from matplotlib) (1.4.5)\n",
            "Requirement already satisfied: numpy>=1.20 in /usr/local/lib/python3.10/dist-packages (from matplotlib) (1.23.5)\n",
            "Requirement already satisfied: packaging>=20.0 in /usr/local/lib/python3.10/dist-packages (from matplotlib) (23.2)\n",
            "Requirement already satisfied: pillow>=6.2.0 in /usr/local/lib/python3.10/dist-packages (from matplotlib) (9.4.0)\n",
            "Requirement already satisfied: pyparsing>=2.3.1 in /usr/local/lib/python3.10/dist-packages (from matplotlib) (3.1.1)\n",
            "Requirement already satisfied: python-dateutil>=2.7 in /usr/local/lib/python3.10/dist-packages (from matplotlib) (2.8.2)\n",
            "Requirement already satisfied: six>=1.5 in /usr/local/lib/python3.10/dist-packages (from python-dateutil>=2.7->matplotlib) (1.16.0)\n",
            "\u001b[33mWARNING: Running pip as the 'root' user can result in broken permissions and conflicting behaviour with the system package manager. It is recommended to use a virtual environment instead: https://pip.pypa.io/warnings/venv\u001b[0m\u001b[33m\n",
            "\u001b[0mCollecting shap\n",
            "  Downloading shap-0.44.1-cp310-cp310-manylinux_2_12_x86_64.manylinux2010_x86_64.manylinux_2_17_x86_64.manylinux2014_x86_64.whl.metadata (24 kB)\n",
            "Requirement already satisfied: numpy in /usr/local/lib/python3.10/dist-packages (from shap) (1.23.5)\n",
            "Requirement already satisfied: scipy in /usr/local/lib/python3.10/dist-packages (from shap) (1.11.4)\n",
            "Requirement already satisfied: scikit-learn in /usr/local/lib/python3.10/dist-packages (from shap) (1.2.2)\n",
            "Requirement already satisfied: pandas in /usr/local/lib/python3.10/dist-packages (from shap) (1.5.3)\n",
            "Requirement already satisfied: tqdm>=4.27.0 in /usr/local/lib/python3.10/dist-packages (from shap) (4.66.1)\n",
            "Requirement already satisfied: packaging>20.9 in /usr/local/lib/python3.10/dist-packages (from shap) (23.2)\n",
            "Collecting slicer==0.0.7 (from shap)\n",
            "  Downloading slicer-0.0.7-py3-none-any.whl (14 kB)\n",
            "Requirement already satisfied: numba in /usr/local/lib/python3.10/dist-packages (from shap) (0.58.1)\n",
            "Requirement already satisfied: cloudpickle in /usr/local/lib/python3.10/dist-packages (from shap) (2.2.1)\n",
            "Requirement already satisfied: llvmlite<0.42,>=0.41.0dev0 in /usr/local/lib/python3.10/dist-packages (from numba->shap) (0.41.1)\n",
            "Requirement already satisfied: python-dateutil>=2.8.1 in /usr/local/lib/python3.10/dist-packages (from pandas->shap) (2.8.2)\n",
            "Requirement already satisfied: pytz>=2020.1 in /usr/local/lib/python3.10/dist-packages (from pandas->shap) (2023.3.post1)\n",
            "Requirement already satisfied: joblib>=1.1.1 in /usr/local/lib/python3.10/dist-packages (from scikit-learn->shap) (1.3.2)\n",
            "Requirement already satisfied: threadpoolctl>=2.0.0 in /usr/local/lib/python3.10/dist-packages (from scikit-learn->shap) (3.2.0)\n",
            "Requirement already satisfied: six>=1.5 in /usr/local/lib/python3.10/dist-packages (from python-dateutil>=2.8.1->pandas->shap) (1.16.0)\n",
            "Downloading shap-0.44.1-cp310-cp310-manylinux_2_12_x86_64.manylinux2010_x86_64.manylinux_2_17_x86_64.manylinux2014_x86_64.whl (535 kB)\n",
            "\u001b[2K   \u001b[90m━━━━━━━━━━━━━━━━━━━━━━━━━━━━━━━━━━━━━━━━\u001b[0m \u001b[32m535.7/535.7 kB\u001b[0m \u001b[31m11.6 MB/s\u001b[0m eta \u001b[36m0:00:00\u001b[0m\n",
            "\u001b[?25hInstalling collected packages: slicer, shap\n",
            "Successfully installed shap-0.44.1 slicer-0.0.7\n",
            "\u001b[33mWARNING: Running pip as the 'root' user can result in broken permissions and conflicting behaviour with the system package manager. It is recommended to use a virtual environment instead: https://pip.pypa.io/warnings/venv\u001b[0m\u001b[33m\n",
            "\u001b[0m"
          ]
        }
      ],
      "source": [
        "# Create python enviornment\n",
        "\n",
        "# Install libraries\n",
        "\n",
        "!pip install --upgrade pip\n",
        "!pip install scikit-learn\n",
        "!pip install pandas==1.5.3 # to be compatible with google-colab 1.0.0\n",
        "!pip install matplotlib\n",
        "!pip install shap\n",
        "\n",
        "# Install methods\n",
        "\n",
        "import warnings\n",
        "warnings.filterwarnings('ignore', category=FutureWarning) # Ignore FutureWarning\n",
        "\n",
        "import os\n",
        "\n",
        "import numpy as np\n",
        "import pandas as pd\n",
        "\n",
        "import matplotlib.pyplot as plt\n",
        "import seaborn as sns\n",
        "\n",
        "from google.colab import drive\n",
        "\n",
        "from statsmodels.stats.outliers_influence import variance_inflation_factor\n",
        "\n",
        "from scipy.stats import f_oneway\n",
        "\n",
        "from sklearn.utils import shuffle\n",
        "\n",
        "from sklearn.model_selection import train_test_split, GridSearchCV\n",
        "\n",
        "from sklearn.metrics import classification_report, confusion_matrix, roc_curve,roc_auc_score, accuracy_score,f1_score\n",
        "\n",
        "import shap as shap\n",
        "from shap import TreeExplainer, summary_plot\n",
        "\n",
        "from sklearn.tree import DecisionTreeClassifier\n",
        "\n",
        "from sklearn.feature_selection import RFE\n"
      ]
    },
    {
      "cell_type": "code",
      "execution_count": 2,
      "metadata": {
        "colab": {
          "base_uri": "https://localhost:8080/"
        },
        "id": "arUD5_dlBU8f",
        "outputId": "3ceb719e-d244-4cae-b39a-f1769a877c66"
      },
      "outputs": [
        {
          "output_type": "stream",
          "name": "stdout",
          "text": [
            "<class 'pandas.core.frame.DataFrame'>\n",
            "RangeIndex: 134575 entries, 0 to 134574\n",
            "Data columns (total 15 columns):\n",
            " #   Column                     Non-Null Count   Dtype  \n",
            "---  ------                     --------------   -----  \n",
            " 0   random_key                 134575 non-null  int64  \n",
            " 1   target                     134575 non-null  int64  \n",
            " 2   customer_demo_age          134575 non-null  int64  \n",
            " 3   customer_demo_geography_1  134575 non-null  int64  \n",
            " 4   customer_demo_geography_2  134575 non-null  int64  \n",
            " 5   sales_channel              134575 non-null  int64  \n",
            " 6   sales_team                 134575 non-null  int64  \n",
            " 7   sales_program              134575 non-null  int64  \n",
            " 8   product_sku                134575 non-null  int64  \n",
            " 9   product_cpe                134575 non-null  int64  \n",
            " 10  product_operations_kpi1    132071 non-null  float64\n",
            " 11  product_operations_kpi2    134575 non-null  int64  \n",
            " 12  product_usage_kpi1         134575 non-null  int64  \n",
            " 13  product_usage_kpi2         134575 non-null  int64  \n",
            " 14  product_usage_kpi3         134575 non-null  int64  \n",
            "dtypes: float64(1), int64(14)\n",
            "memory usage: 15.4 MB\n"
          ]
        }
      ],
      "source": [
        "# Load CSV data file into a dataframe\n",
        "\n",
        "df_pre = pd.read_csv(r'/content/drive/MyDrive/Data_sets/telco_subscription_data.csv')\n",
        "\n",
        "# Check data load\n",
        "\n",
        "df_pre.info()"
      ]
    },
    {
      "cell_type": "code",
      "execution_count": 3,
      "metadata": {
        "colab": {
          "base_uri": "https://localhost:8080/"
        },
        "id": "8xXrgggFBVD7",
        "outputId": "c52434c7-9c46-404a-ff66-3b975f0487c2"
      },
      "outputs": [
        {
          "output_type": "stream",
          "name": "stdout",
          "text": [
            "<class 'pandas.core.frame.DataFrame'>\n",
            "RangeIndex: 134575 entries, 0 to 134574\n",
            "Data columns (total 15 columns):\n",
            " #   Column                     Non-Null Count   Dtype  \n",
            "---  ------                     --------------   -----  \n",
            " 0   random_key                 134575 non-null  int64  \n",
            " 1   target                     134575 non-null  int64  \n",
            " 2   customer_demo_age          134575 non-null  int64  \n",
            " 3   customer_demo_geography_1  134575 non-null  int64  \n",
            " 4   customer_demo_geography_2  134575 non-null  int64  \n",
            " 5   sales_channel              134575 non-null  int64  \n",
            " 6   sales_team                 134575 non-null  int64  \n",
            " 7   sales_program              134575 non-null  int64  \n",
            " 8   product_sku                134575 non-null  int64  \n",
            " 9   product_cpe                134575 non-null  int64  \n",
            " 10  product_operations_kpi1    132071 non-null  float64\n",
            " 11  product_operations_kpi2    134575 non-null  int64  \n",
            " 12  product_usage_kpi1         134575 non-null  int64  \n",
            " 13  product_usage_kpi2         134575 non-null  int64  \n",
            " 14  product_usage_kpi3         134575 non-null  int64  \n",
            "dtypes: float64(1), int64(14)\n",
            "memory usage: 15.4 MB\n"
          ]
        }
      ],
      "source": [
        "# Address null values\n",
        "\n",
        "# Look for Nulls\n",
        "\n",
        "df_pre.info()\n",
        "\n",
        "# Drop Nulls\n",
        "\n",
        "df_pre.dropna(inplace=True)"
      ]
    },
    {
      "cell_type": "code",
      "execution_count": 4,
      "metadata": {
        "colab": {
          "base_uri": "https://localhost:8080/"
        },
        "id": "0w255ARjj5Sn",
        "outputId": "756e92cc-ef35-4d1e-a593-41fe5f787910"
      },
      "outputs": [
        {
          "output_type": "stream",
          "name": "stdout",
          "text": [
            "Number of duplicate rows: 0\n"
          ]
        }
      ],
      "source": [
        "# Check for any duplication\n",
        "\n",
        "print(\"Number of duplicate rows:\", df_pre.duplicated().sum())"
      ]
    },
    {
      "cell_type": "code",
      "execution_count": 5,
      "metadata": {
        "id": "ykpXjPXngPpH"
      },
      "outputs": [],
      "source": [
        "# Some of the int values are actually string values\n",
        "# that will need to be flattened\n",
        "\n",
        "columns_to_cast = ['sales_team', 'sales_channel','sales_program','product_sku','product_cpe','customer_demo_geography_1','customer_demo_geography_2']\n",
        "\n",
        "df_pre[columns_to_cast] = df_pre[columns_to_cast].astype(object)\n",
        "\n",
        "# Some of the float64 values are actually int values\n",
        "# that will need to be flattened\n",
        "\n",
        "# Define a list of column names to cast\n",
        "columns_to_cast = ['product_operations_kpi1']\n",
        "\n",
        "# Cast the columns\n",
        "df_pre[columns_to_cast] = df_pre[columns_to_cast].astype(int)"
      ]
    },
    {
      "cell_type": "markdown",
      "metadata": {
        "id": "B1ht5aDeZaZq"
      },
      "source": [
        "## Explority Data Analysis"
      ]
    },
    {
      "cell_type": "markdown",
      "metadata": {
        "id": "jx_I4lt3ux0t"
      },
      "source": [
        "Source data has exensive inbalance, particularly in the target value (boolean for the account status whre 1 = churn, and 0 = active). Features appear to be largely independet as shown by Perason and VIF."
      ]
    },
    {
      "cell_type": "code",
      "execution_count": 6,
      "metadata": {
        "colab": {
          "base_uri": "https://localhost:8080/",
          "height": 699
        },
        "id": "wPfmNal4c_-Y",
        "outputId": "5e22b01a-c054-43e1-dc10-8287bfef040d"
      },
      "outputs": [
        {
          "output_type": "display_data",
          "data": {
            "text/plain": [
              "<Figure size 1000x800 with 9 Axes>"
            ],
            "image/png": "[encoded data removed]"
          },
          "metadata": {}
        }
      ],
      "source": [
        "# Exploratory plots\n",
        "\n",
        "df_pre.hist(bins=50, figsize=(10, 8))\n",
        "plt.show()"
      ]
    },
    {
      "cell_type": "code",
      "execution_count": 7,
      "metadata": {
        "colab": {
          "base_uri": "https://localhost:8080/",
          "height": 834
        },
        "id": "w7H-bFoXBVHv",
        "outputId": "334e5f6f-39ca-4007-c562-807326fd484e"
      },
      "outputs": [
        {
          "output_type": "display_data",
          "data": {
            "text/plain": [
              "<Figure size 1000x800 with 2 Axes>"
            ],
            "image/png": "[encoded data removed]"
          },
          "metadata": {}
        }
      ],
      "source": [
        "# Collinearity: Pearson\n",
        "\n",
        "df_num = df_pre.select_dtypes(include = ['float64', 'int64'])\n",
        "\n",
        "plt.style.use('bmh')\n",
        "plt.figure(figsize=(10, 8))\n",
        "\n",
        "corrMatrix = df_num.corr()\n",
        "sns.heatmap(corrMatrix, annot=True)\n",
        "plt.show()"
      ]
    },
    {
      "cell_type": "code",
      "execution_count": 8,
      "metadata": {
        "colab": {
          "base_uri": "https://localhost:8080/"
        },
        "id": "q-EK8EYlb6Jv",
        "outputId": "c57811f2-7aad-424e-cae1-43faf1bfc888"
      },
      "outputs": [
        {
          "output_type": "stream",
          "name": "stdout",
          "text": [
            "VIF Values for Numeric Features:\n",
            "                   Feature       VIF\n",
            "0               random_key  3.281181\n",
            "1                   target  1.140411\n",
            "2        customer_demo_age  3.585833\n",
            "3  product_operations_kpi1  1.495137\n",
            "4  product_operations_kpi2  1.248218\n",
            "5       product_usage_kpi1  1.589605\n",
            "6       product_usage_kpi2  1.536839\n",
            "7       product_usage_kpi3  1.364883\n"
          ]
        }
      ],
      "source": [
        "# Collinearity: VIF\n",
        "\n",
        "df_num = df_pre.select_dtypes(include = ['float64', 'int64'])\n",
        "\n",
        "# Calculate VIF for each numeric feature\n",
        "vif = pd.DataFrame()\n",
        "vif[\"Feature\"] = df_num.columns\n",
        "vif[\"VIF\"] = [variance_inflation_factor(df_num.values, i) for i in range(df_num.shape[1])]\n",
        "\n",
        "# Print the VIF values to identify multicollinearity among numeric features\n",
        "print(\"VIF Values for Numeric Features:\")\n",
        "print(vif)"
      ]
    },
    {
      "cell_type": "markdown",
      "metadata": {
        "id": "Sx0z-_k-1b1E"
      },
      "source": [
        "## Prepare Dataset"
      ]
    },
    {
      "cell_type": "markdown",
      "metadata": {
        "id": "ywzpAbV3vvWJ"
      },
      "source": [
        "Preliminary feature reduction efforts require numeric data. Features with string values will be flattened, and features with continuous numeric values will be normalized."
      ]
    },
    {
      "cell_type": "code",
      "execution_count": 9,
      "metadata": {
        "colab": {
          "base_uri": "https://localhost:8080/"
        },
        "id": "sdaEc7-u26TQ",
        "outputId": "88a23664-f32b-4d9e-d6a0-8ccccd540242"
      },
      "outputs": [
        {
          "output_type": "stream",
          "name": "stdout",
          "text": [
            "random_key                   123692\n",
            "target                            2\n",
            "customer_demo_age                86\n",
            "customer_demo_geography_1        50\n",
            "customer_demo_geography_2      5307\n",
            "sales_channel                     4\n",
            "sales_team                       22\n",
            "sales_program                    20\n",
            "product_sku                       3\n",
            "product_cpe                      18\n",
            "product_operations_kpi1          56\n",
            "product_operations_kpi2          27\n",
            "product_usage_kpi1            14209\n",
            "product_usage_kpi2             3439\n",
            "product_usage_kpi3             2634\n",
            "dtype: int64\n"
          ]
        }
      ],
      "source": [
        "unique_counts_per_column = df_pre.nunique()\n",
        "\n",
        "print(unique_counts_per_column)"
      ]
    },
    {
      "cell_type": "markdown",
      "metadata": {
        "id": "KBjSOWqZ4FWS"
      },
      "source": [
        "Numerical, continuous data (product_usage_kpi1, product_operations_kpi1) have a high unique count and should not present a problem. However, the categorical features with high unique value counts (customer_demo_geography_2) may be an issue. For how this value will be dropped. After the inital data is analyzed customer_demo_geography_2 will be re-investigated for value."
      ]
    },
    {
      "cell_type": "code",
      "execution_count": 10,
      "metadata": {
        "id": "pVfjjnzFMgUn"
      },
      "outputs": [],
      "source": [
        "# Drop features\n",
        "\n",
        "df_pre.drop(columns='random_key', inplace=True) # used initially to identify duplicates\n",
        "df_pre.drop(columns='customer_demo_geography_2', inplace=True)"
      ]
    },
    {
      "cell_type": "code",
      "execution_count": 11,
      "metadata": {
        "id": "QEJ8EwXodALz"
      },
      "outputs": [],
      "source": [
        "# Normalize continuous features\n",
        "\n",
        "columns_to_norm = ['product_usage_kpi1','product_usage_kpi2', 'product_usage_kpi3','product_operations_kpi1','product_operations_kpi2']\n",
        "\n",
        "for column in columns_to_norm:\n",
        "  df_pre[column] = df_pre[column] / df_pre[column].abs().max()"
      ]
    },
    {
      "cell_type": "code",
      "execution_count": 12,
      "metadata": {
        "id": "FT2fzXK-dABP"
      },
      "outputs": [],
      "source": [
        "# Bin age into generations\n",
        "# Assumption is that trends fall along generations more than specific ages\n",
        "# https://www.beresfordresearch.com/age-range-by-generation/\n",
        "\n",
        "df_pre['customer_demo_age_gen'] = df_pre['customer_demo_age'].apply(lambda age:\n",
        "    'gen_z' if age >= 12 and age <= 27 else\n",
        "    'millennial' if age >= 28 and age <= 43 else\n",
        "    'gen_x' if age >= 44 and age <= 59 else\n",
        "    'boomers' if age >= 60 and age <= 78 else\n",
        "    'post_war' if age >= 79 and age <= 96 else\n",
        "    'invalid' if age < 18 and age > 99 else\n",
        "    'other'\n",
        ")\n",
        "\n",
        "# Drop age\n",
        "df_pre.drop('customer_demo_age', axis=1, inplace=True)"
      ]
    },
    {
      "cell_type": "code",
      "execution_count": 13,
      "metadata": {
        "id": "0lRQpGA-dAOY"
      },
      "outputs": [],
      "source": [
        "# Flatten categorical features\n",
        "\n",
        "categorical_features = ['product_sku','sales_channel','sales_team','product_cpe','sales_program','customer_demo_age_gen','customer_demo_geography_1']\n",
        "\n",
        "# Perform one-hot encoding (flattening) of the specified columns\n",
        "df_pre = pd.get_dummies(df_pre, columns=categorical_features)\n",
        "\n",
        "# Convert boolean values to integers (1 and 0)\n",
        "df_pre = df_pre.astype(int)"
      ]
    },
    {
      "cell_type": "code",
      "execution_count": 14,
      "metadata": {
        "colab": {
          "base_uri": "https://localhost:8080/"
        },
        "id": "zZdXcM4hzkfZ",
        "outputId": "711df26e-f881-49be-9f00-604d511107f3"
      },
      "outputs": [
        {
          "output_type": "stream",
          "name": "stdout",
          "text": [
            "Total Features: 129\n"
          ]
        }
      ],
      "source": [
        "# Initial feature counts\n",
        "\n",
        "unique_column_names = set(df_pre.columns)\n",
        "column_count = len(unique_column_names)\n",
        "print(f\"Total Features: {column_count}\")"
      ]
    },
    {
      "cell_type": "code",
      "execution_count": 15,
      "metadata": {
        "colab": {
          "base_uri": "https://localhost:8080/",
          "height": 255
        },
        "id": "SMszOyTP9d-a",
        "outputId": "33066ecf-de77-4ee2-dbc3-e6d3bb6d3b4f"
      },
      "outputs": [
        {
          "output_type": "execute_result",
          "data": {
            "text/plain": [
              "   target  product_operations_kpi1  product_operations_kpi2  \\\n",
              "0       0                        0                        0   \n",
              "1       0                        0                        0   \n",
              "2       0                        0                        0   \n",
              "3       0                        0                        0   \n",
              "4       0                        0                        0   \n",
              "\n",
              "   product_usage_kpi1  product_usage_kpi2  product_usage_kpi3  product_sku_0  \\\n",
              "0                   0                   0                   0              0   \n",
              "1                   0                   0                   0              0   \n",
              "2                   0                   0                   0              0   \n",
              "3                   0                   0                   0              0   \n",
              "4                   0                   0                   0              0   \n",
              "\n",
              "   product_sku_1  product_sku_2  sales_channel_0  ...  \\\n",
              "0              0              1                1  ...   \n",
              "1              0              1                1  ...   \n",
              "2              0              1                0  ...   \n",
              "3              0              1                1  ...   \n",
              "4              0              1                1  ...   \n",
              "\n",
              "   customer_demo_geography_1_40  customer_demo_geography_1_41  \\\n",
              "0                             0                             0   \n",
              "1                             0                             0   \n",
              "2                             0                             0   \n",
              "3                             0                             0   \n",
              "4                             0                             0   \n",
              "\n",
              "   customer_demo_geography_1_42  customer_demo_geography_1_43  \\\n",
              "0                             0                             0   \n",
              "1                             0                             0   \n",
              "2                             0                             0   \n",
              "3                             0                             0   \n",
              "4                             0                             0   \n",
              "\n",
              "   customer_demo_geography_1_44  customer_demo_geography_1_45  \\\n",
              "0                             0                             0   \n",
              "1                             0                             0   \n",
              "2                             0                             0   \n",
              "3                             0                             0   \n",
              "4                             0                             0   \n",
              "\n",
              "   customer_demo_geography_1_46  customer_demo_geography_1_47  \\\n",
              "0                             0                             0   \n",
              "1                             0                             0   \n",
              "2                             0                             0   \n",
              "3                             0                             0   \n",
              "4                             0                             0   \n",
              "\n",
              "   customer_demo_geography_1_48  customer_demo_geography_1_49  \n",
              "0                             0                             0  \n",
              "1                             0                             0  \n",
              "2                             0                             0  \n",
              "3                             0                             0  \n",
              "4                             0                             0  \n",
              "\n",
              "[5 rows x 129 columns]"
            ],
            "text/html": [
              "\n",
              "  <div id=\"df-42584eeb-bba9-450d-9435-0dea9362e45e\" class=\"colab-df-container\">\n",
              "    <div>\n",
              "<style scoped>\n",
              "    .dataframe tbody tr th:only-of-type {\n",
              "        vertical-align: middle;\n",
              "    }\n",
              "\n",
              "    .dataframe tbody tr th {\n",
              "        vertical-align: top;\n",
              "    }\n",
              "\n",
              "    .dataframe thead th {\n",
              "        text-align: right;\n",
              "    }\n",
              "</style>\n",
              "<table border=\"1\" class=\"dataframe\">\n",
              "  <thead>\n",
              "    <tr style=\"text-align: right;\">\n",
              "      <th></th>\n",
              "      <th>target</th>\n",
              "      <th>product_operations_kpi1</th>\n",
              "      <th>product_operations_kpi2</th>\n",
              "      <th>product_usage_kpi1</th>\n",
              "      <th>product_usage_kpi2</th>\n",
              "      <th>product_usage_kpi3</th>\n",
              "      <th>product_sku_0</th>\n",
              "      <th>product_sku_1</th>\n",
              "      <th>product_sku_2</th>\n",
              "      <th>sales_channel_0</th>\n",
              "      <th>...</th>\n",
              "      <th>customer_demo_geography_1_40</th>\n",
              "      <th>customer_demo_geography_1_41</th>\n",
              "      <th>customer_demo_geography_1_42</th>\n",
              "      <th>customer_demo_geography_1_43</th>\n",
              "      <th>customer_demo_geography_1_44</th>\n",
              "      <th>customer_demo_geography_1_45</th>\n",
              "      <th>customer_demo_geography_1_46</th>\n",
              "      <th>customer_demo_geography_1_47</th>\n",
              "      <th>customer_demo_geography_1_48</th>\n",
              "      <th>customer_demo_geography_1_49</th>\n",
              "    </tr>\n",
              "  </thead>\n",
              "  <tbody>\n",
              "    <tr>\n",
              "      <th>0</th>\n",
              "      <td>0</td>\n",
              "      <td>0</td>\n",
              "      <td>0</td>\n",
              "      <td>0</td>\n",
              "      <td>0</td>\n",
              "      <td>0</td>\n",
              "      <td>0</td>\n",
              "      <td>0</td>\n",
              "      <td>1</td>\n",
              "      <td>1</td>\n",
              "      <td>...</td>\n",
              "      <td>0</td>\n",
              "      <td>0</td>\n",
              "      <td>0</td>\n",
              "      <td>0</td>\n",
              "      <td>0</td>\n",
              "      <td>0</td>\n",
              "      <td>0</td>\n",
              "      <td>0</td>\n",
              "      <td>0</td>\n",
              "      <td>0</td>\n",
              "    </tr>\n",
              "    <tr>\n",
              "      <th>1</th>\n",
              "      <td>0</td>\n",
              "      <td>0</td>\n",
              "      <td>0</td>\n",
              "      <td>0</td>\n",
              "      <td>0</td>\n",
              "      <td>0</td>\n",
              "      <td>0</td>\n",
              "      <td>0</td>\n",
              "      <td>1</td>\n",
              "      <td>1</td>\n",
              "      <td>...</td>\n",
              "      <td>0</td>\n",
              "      <td>0</td>\n",
              "      <td>0</td>\n",
              "      <td>0</td>\n",
              "      <td>0</td>\n",
              "      <td>0</td>\n",
              "      <td>0</td>\n",
              "      <td>0</td>\n",
              "      <td>0</td>\n",
              "      <td>0</td>\n",
              "    </tr>\n",
              "    <tr>\n",
              "      <th>2</th>\n",
              "      <td>0</td>\n",
              "      <td>0</td>\n",
              "      <td>0</td>\n",
              "      <td>0</td>\n",
              "      <td>0</td>\n",
              "      <td>0</td>\n",
              "      <td>0</td>\n",
              "      <td>0</td>\n",
              "      <td>1</td>\n",
              "      <td>0</td>\n",
              "      <td>...</td>\n",
              "      <td>0</td>\n",
              "      <td>0</td>\n",
              "      <td>0</td>\n",
              "      <td>0</td>\n",
              "      <td>0</td>\n",
              "      <td>0</td>\n",
              "      <td>0</td>\n",
              "      <td>0</td>\n",
              "      <td>0</td>\n",
              "      <td>0</td>\n",
              "    </tr>\n",
              "    <tr>\n",
              "      <th>3</th>\n",
              "      <td>0</td>\n",
              "      <td>0</td>\n",
              "      <td>0</td>\n",
              "      <td>0</td>\n",
              "      <td>0</td>\n",
              "      <td>0</td>\n",
              "      <td>0</td>\n",
              "      <td>0</td>\n",
              "      <td>1</td>\n",
              "      <td>1</td>\n",
              "      <td>...</td>\n",
              "      <td>0</td>\n",
              "      <td>0</td>\n",
              "      <td>0</td>\n",
              "      <td>0</td>\n",
              "      <td>0</td>\n",
              "      <td>0</td>\n",
              "      <td>0</td>\n",
              "      <td>0</td>\n",
              "      <td>0</td>\n",
              "      <td>0</td>\n",
              "    </tr>\n",
              "    <tr>\n",
              "      <th>4</th>\n",
              "      <td>0</td>\n",
              "      <td>0</td>\n",
              "      <td>0</td>\n",
              "      <td>0</td>\n",
              "      <td>0</td>\n",
              "      <td>0</td>\n",
              "      <td>0</td>\n",
              "      <td>0</td>\n",
              "      <td>1</td>\n",
              "      <td>1</td>\n",
              "      <td>...</td>\n",
              "      <td>0</td>\n",
              "      <td>0</td>\n",
              "      <td>0</td>\n",
              "      <td>0</td>\n",
              "      <td>0</td>\n",
              "      <td>0</td>\n",
              "      <td>0</td>\n",
              "      <td>0</td>\n",
              "      <td>0</td>\n",
              "      <td>0</td>\n",
              "    </tr>\n",
              "  </tbody>\n",
              "</table>\n",
              "<p>5 rows × 129 columns</p>\n",
              "</div>\n",
              "    <div class=\"colab-df-buttons\">\n",
              "\n",
              "  <div class=\"colab-df-container\">\n",
              "    <button class=\"colab-df-convert\" onclick=\"convertToInteractive('df-42584eeb-bba9-450d-9435-0dea9362e45e')\"\n",
              "            title=\"Convert this dataframe to an interactive table.\"\n",
              "            style=\"display:none;\">\n",
              "\n",
              "  <svg xmlns=\"http://www.w3.org/2000/svg\" height=\"24px\" viewBox=\"0 -960 960 960\">\n",
              "    <path d=\"M120-120v-720h720v720H120Zm60-500h600v-160H180v160Zm220 220h160v-160H400v160Zm0 220h160v-160H400v160ZM180-400h160v-160H180v160Zm440 0h160v-160H620v160ZM180-180h160v-160H180v160Zm440 0h160v-160H620v160Z\"/>\n",
              "  </svg>\n",
              "    </button>\n",
              "\n",
              "  <style>\n",
              "    .colab-df-container {\n",
              "      display:flex;\n",
              "      gap: 12px;\n",
              "    }\n",
              "\n",
              "    .colab-df-convert {\n",
              "      background-color: #E8F0FE;\n",
              "      border: none;\n",
              "      border-radius: 50%;\n",
              "      cursor: pointer;\n",
              "      display: none;\n",
              "      fill: #1967D2;\n",
              "      height: 32px;\n",
              "      padding: 0 0 0 0;\n",
              "      width: 32px;\n",
              "    }\n",
              "\n",
              "    .colab-df-convert:hover {\n",
              "      background-color: #E2EBFA;\n",
              "      box-shadow: 0px 1px 2px rgba(60, 64, 67, 0.3), 0px 1px 3px 1px rgba(60, 64, 67, 0.15);\n",
              "      fill: #174EA6;\n",
              "    }\n",
              "\n",
              "    .colab-df-buttons div {\n",
              "      margin-bottom: 4px;\n",
              "    }\n",
              "\n",
              "    [theme=dark] .colab-df-convert {\n",
              "      background-color: #3B4455;\n",
              "      fill: #D2E3FC;\n",
              "    }\n",
              "\n",
              "    [theme=dark] .colab-df-convert:hover {\n",
              "      background-color: #434B5C;\n",
              "      box-shadow: 0px 1px 3px 1px rgba(0, 0, 0, 0.15);\n",
              "      filter: drop-shadow(0px 1px 2px rgba(0, 0, 0, 0.3));\n",
              "      fill: #FFFFFF;\n",
              "    }\n",
              "  </style>\n",
              "\n",
              "    <script>\n",
              "      const buttonEl =\n",
              "        document.querySelector('#df-42584eeb-bba9-450d-9435-0dea9362e45e button.colab-df-convert');\n",
              "      buttonEl.style.display =\n",
              "        google.colab.kernel.accessAllowed ? 'block' : 'none';\n",
              "\n",
              "      async function convertToInteractive(key) {\n",
              "        const element = document.querySelector('#df-42584eeb-bba9-450d-9435-0dea9362e45e');\n",
              "        const dataTable =\n",
              "          await google.colab.kernel.invokeFunction('convertToInteractive',\n",
              "                                                    [key], {});\n",
              "        if (!dataTable) return;\n",
              "\n",
              "        const docLinkHtml = 'Like what you see? Visit the ' +\n",
              "          '<a target=\"_blank\" href=https://colab.research.google.com/notebooks/data_table.ipynb>data table notebook</a>'\n",
              "          + ' to learn more about interactive tables.';\n",
              "        element.innerHTML = '';\n",
              "        dataTable['output_type'] = 'display_data';\n",
              "        await google.colab.output.renderOutput(dataTable, element);\n",
              "        const docLink = document.createElement('div');\n",
              "        docLink.innerHTML = docLinkHtml;\n",
              "        element.appendChild(docLink);\n",
              "      }\n",
              "    </script>\n",
              "  </div>\n",
              "\n",
              "\n",
              "<div id=\"df-b8d4f58c-8939-47f7-8fb9-ca1b786ac2d0\">\n",
              "  <button class=\"colab-df-quickchart\" onclick=\"quickchart('df-b8d4f58c-8939-47f7-8fb9-ca1b786ac2d0')\"\n",
              "            title=\"Suggest charts\"\n",
              "            style=\"display:none;\">\n",
              "\n",
              "<svg xmlns=\"http://www.w3.org/2000/svg\" height=\"24px\"viewBox=\"0 0 24 24\"\n",
              "     width=\"24px\">\n",
              "    <g>\n",
              "        <path d=\"M19 3H5c-1.1 0-2 .9-2 2v14c0 1.1.9 2 2 2h14c1.1 0 2-.9 2-2V5c0-1.1-.9-2-2-2zM9 17H7v-7h2v7zm4 0h-2V7h2v10zm4 0h-2v-4h2v4z\"/>\n",
              "    </g>\n",
              "</svg>\n",
              "  </button>\n",
              "\n",
              "<style>\n",
              "  .colab-df-quickchart {\n",
              "      --bg-color: #E8F0FE;\n",
              "      --fill-color: #1967D2;\n",
              "      --hover-bg-color: #E2EBFA;\n",
              "      --hover-fill-color: #174EA6;\n",
              "      --disabled-fill-color: #AAA;\n",
              "      --disabled-bg-color: #DDD;\n",
              "  }\n",
              "\n",
              "  [theme=dark] .colab-df-quickchart {\n",
              "      --bg-color: #3B4455;\n",
              "      --fill-color: #D2E3FC;\n",
              "      --hover-bg-color: #434B5C;\n",
              "      --hover-fill-color: #FFFFFF;\n",
              "      --disabled-bg-color: #3B4455;\n",
              "      --disabled-fill-color: #666;\n",
              "  }\n",
              "\n",
              "  .colab-df-quickchart {\n",
              "    background-color: var(--bg-color);\n",
              "    border: none;\n",
              "    border-radius: 50%;\n",
              "    cursor: pointer;\n",
              "    display: none;\n",
              "    fill: var(--fill-color);\n",
              "    height: 32px;\n",
              "    padding: 0;\n",
              "    width: 32px;\n",
              "  }\n",
              "\n",
              "  .colab-df-quickchart:hover {\n",
              "    background-color: var(--hover-bg-color);\n",
              "    box-shadow: 0 1px 2px rgba(60, 64, 67, 0.3), 0 1px 3px 1px rgba(60, 64, 67, 0.15);\n",
              "    fill: var(--button-hover-fill-color);\n",
              "  }\n",
              "\n",
              "  .colab-df-quickchart-complete:disabled,\n",
              "  .colab-df-quickchart-complete:disabled:hover {\n",
              "    background-color: var(--disabled-bg-color);\n",
              "    fill: var(--disabled-fill-color);\n",
              "    box-shadow: none;\n",
              "  }\n",
              "\n",
              "  .colab-df-spinner {\n",
              "    border: 2px solid var(--fill-color);\n",
              "    border-color: transparent;\n",
              "    border-bottom-color: var(--fill-color);\n",
              "    animation:\n",
              "      spin 1s steps(1) infinite;\n",
              "  }\n",
              "\n",
              "  @keyframes spin {\n",
              "    0% {\n",
              "      border-color: transparent;\n",
              "      border-bottom-color: var(--fill-color);\n",
              "      border-left-color: var(--fill-color);\n",
              "    }\n",
              "    20% {\n",
              "      border-color: transparent;\n",
              "      border-left-color: var(--fill-color);\n",
              "      border-top-color: var(--fill-color);\n",
              "    }\n",
              "    30% {\n",
              "      border-color: transparent;\n",
              "      border-left-color: var(--fill-color);\n",
              "      border-top-color: var(--fill-color);\n",
              "      border-right-color: var(--fill-color);\n",
              "    }\n",
              "    40% {\n",
              "      border-color: transparent;\n",
              "      border-right-color: var(--fill-color);\n",
              "      border-top-color: var(--fill-color);\n",
              "    }\n",
              "    60% {\n",
              "      border-color: transparent;\n",
              "      border-right-color: var(--fill-color);\n",
              "    }\n",
              "    80% {\n",
              "      border-color: transparent;\n",
              "      border-right-color: var(--fill-color);\n",
              "      border-bottom-color: var(--fill-color);\n",
              "    }\n",
              "    90% {\n",
              "      border-color: transparent;\n",
              "      border-bottom-color: var(--fill-color);\n",
              "    }\n",
              "  }\n",
              "</style>\n",
              "\n",
              "  <script>\n",
              "    async function quickchart(key) {\n",
              "      const quickchartButtonEl =\n",
              "        document.querySelector('#' + key + ' button');\n",
              "      quickchartButtonEl.disabled = true;  // To prevent multiple clicks.\n",
              "      quickchartButtonEl.classList.add('colab-df-spinner');\n",
              "      try {\n",
              "        const charts = await google.colab.kernel.invokeFunction(\n",
              "            'suggestCharts', [key], {});\n",
              "      } catch (error) {\n",
              "        console.error('Error during call to suggestCharts:', error);\n",
              "      }\n",
              "      quickchartButtonEl.classList.remove('colab-df-spinner');\n",
              "      quickchartButtonEl.classList.add('colab-df-quickchart-complete');\n",
              "    }\n",
              "    (() => {\n",
              "      let quickchartButtonEl =\n",
              "        document.querySelector('#df-b8d4f58c-8939-47f7-8fb9-ca1b786ac2d0 button');\n",
              "      quickchartButtonEl.style.display =\n",
              "        google.colab.kernel.accessAllowed ? 'block' : 'none';\n",
              "    })();\n",
              "  </script>\n",
              "</div>\n",
              "\n",
              "    </div>\n",
              "  </div>\n"
            ]
          },
          "metadata": {},
          "execution_count": 15
        }
      ],
      "source": [
        "df_pre.head()"
      ]
    },
    {
      "cell_type": "code",
      "execution_count": 16,
      "metadata": {
        "id": "X-gRM3M67gR_"
      },
      "outputs": [],
      "source": [
        "import pandas as pd\n",
        "from scipy.stats import f_oneway\n",
        "\n",
        "# Perform ANOVA tests for each feature and reduce features\n",
        "alpha = 0.05\n",
        "anova_results = []\n",
        "features_to_drop = []\n",
        "target_variable = 'target'\n",
        "\n",
        "for feature_column in df_pre.columns:\n",
        "    if feature_column != target_variable:\n",
        "        # Group data by target variable and perform ANOVA\n",
        "        grouped_data = [group[1] for group in df_pre.groupby(target_variable)[feature_column]]\n",
        "        f_statistic, p_value = f_oneway(*grouped_data)\n",
        "        if p_value >= alpha:\n",
        "            significance = 'Not Significant'\n",
        "            features_to_drop.append(feature_column)\n",
        "        else:\n",
        "            significance = 'Significant'\n",
        "\n",
        "        # Store the results\n",
        "        anova_results.append([feature_column, f_statistic, p_value, significance])\n",
        "\n",
        "# Drop non-significant features\n",
        "df_pre.drop(columns=features_to_drop, inplace=True)"
      ]
    },
    {
      "cell_type": "code",
      "execution_count": 17,
      "metadata": {
        "colab": {
          "base_uri": "https://localhost:8080/",
          "height": 255
        },
        "id": "Q01kPSlD9kIl",
        "outputId": "fcfbc71d-62ec-4294-eeac-960c713d75bc"
      },
      "outputs": [
        {
          "output_type": "execute_result",
          "data": {
            "text/plain": [
              "   target  product_operations_kpi2  product_sku_0  product_sku_1  \\\n",
              "0       0                        0              0              0   \n",
              "1       0                        0              0              0   \n",
              "2       0                        0              0              0   \n",
              "3       0                        0              0              0   \n",
              "4       0                        0              0              0   \n",
              "\n",
              "   product_sku_2  sales_channel_0  sales_channel_1  sales_channel_2  \\\n",
              "0              1                1                0                0   \n",
              "1              1                1                0                0   \n",
              "2              1                0                1                0   \n",
              "3              1                1                0                0   \n",
              "4              1                1                0                0   \n",
              "\n",
              "   sales_channel_3  sales_team_1  ...  customer_demo_geography_1_32  \\\n",
              "0                0             0  ...                             0   \n",
              "1                0             0  ...                             0   \n",
              "2                0             0  ...                             0   \n",
              "3                0             0  ...                             0   \n",
              "4                0             0  ...                             0   \n",
              "\n",
              "   customer_demo_geography_1_33  customer_demo_geography_1_35  \\\n",
              "0                             0                             0   \n",
              "1                             0                             0   \n",
              "2                             0                             0   \n",
              "3                             0                             0   \n",
              "4                             0                             0   \n",
              "\n",
              "   customer_demo_geography_1_36  customer_demo_geography_1_37  \\\n",
              "0                             0                             1   \n",
              "1                             0                             1   \n",
              "2                             0                             0   \n",
              "3                             0                             1   \n",
              "4                             0                             1   \n",
              "\n",
              "   customer_demo_geography_1_41  customer_demo_geography_1_42  \\\n",
              "0                             0                             0   \n",
              "1                             0                             0   \n",
              "2                             0                             0   \n",
              "3                             0                             0   \n",
              "4                             0                             0   \n",
              "\n",
              "   customer_demo_geography_1_43  customer_demo_geography_1_44  \\\n",
              "0                             0                             0   \n",
              "1                             0                             0   \n",
              "2                             0                             0   \n",
              "3                             0                             0   \n",
              "4                             0                             0   \n",
              "\n",
              "   customer_demo_geography_1_45  \n",
              "0                             0  \n",
              "1                             0  \n",
              "2                             0  \n",
              "3                             0  \n",
              "4                             0  \n",
              "\n",
              "[5 rows x 90 columns]"
            ],
            "text/html": [
              "\n",
              "  <div id=\"df-56f49620-c0ae-49b6-8ca3-04c52cae9fd6\" class=\"colab-df-container\">\n",
              "    <div>\n",
              "<style scoped>\n",
              "    .dataframe tbody tr th:only-of-type {\n",
              "        vertical-align: middle;\n",
              "    }\n",
              "\n",
              "    .dataframe tbody tr th {\n",
              "        vertical-align: top;\n",
              "    }\n",
              "\n",
              "    .dataframe thead th {\n",
              "        text-align: right;\n",
              "    }\n",
              "</style>\n",
              "<table border=\"1\" class=\"dataframe\">\n",
              "  <thead>\n",
              "    <tr style=\"text-align: right;\">\n",
              "      <th></th>\n",
              "      <th>target</th>\n",
              "      <th>product_operations_kpi2</th>\n",
              "      <th>product_sku_0</th>\n",
              "      <th>product_sku_1</th>\n",
              "      <th>product_sku_2</th>\n",
              "      <th>sales_channel_0</th>\n",
              "      <th>sales_channel_1</th>\n",
              "      <th>sales_channel_2</th>\n",
              "      <th>sales_channel_3</th>\n",
              "      <th>sales_team_1</th>\n",
              "      <th>...</th>\n",
              "      <th>customer_demo_geography_1_32</th>\n",
              "      <th>customer_demo_geography_1_33</th>\n",
              "      <th>customer_demo_geography_1_35</th>\n",
              "      <th>customer_demo_geography_1_36</th>\n",
              "      <th>customer_demo_geography_1_37</th>\n",
              "      <th>customer_demo_geography_1_41</th>\n",
              "      <th>customer_demo_geography_1_42</th>\n",
              "      <th>customer_demo_geography_1_43</th>\n",
              "      <th>customer_demo_geography_1_44</th>\n",
              "      <th>customer_demo_geography_1_45</th>\n",
              "    </tr>\n",
              "  </thead>\n",
              "  <tbody>\n",
              "    <tr>\n",
              "      <th>0</th>\n",
              "      <td>0</td>\n",
              "      <td>0</td>\n",
              "      <td>0</td>\n",
              "      <td>0</td>\n",
              "      <td>1</td>\n",
              "      <td>1</td>\n",
              "      <td>0</td>\n",
              "      <td>0</td>\n",
              "      <td>0</td>\n",
              "      <td>0</td>\n",
              "      <td>...</td>\n",
              "      <td>0</td>\n",
              "      <td>0</td>\n",
              "      <td>0</td>\n",
              "      <td>0</td>\n",
              "      <td>1</td>\n",
              "      <td>0</td>\n",
              "      <td>0</td>\n",
              "      <td>0</td>\n",
              "      <td>0</td>\n",
              "      <td>0</td>\n",
              "    </tr>\n",
              "    <tr>\n",
              "      <th>1</th>\n",
              "      <td>0</td>\n",
              "      <td>0</td>\n",
              "      <td>0</td>\n",
              "      <td>0</td>\n",
              "      <td>1</td>\n",
              "      <td>1</td>\n",
              "      <td>0</td>\n",
              "      <td>0</td>\n",
              "      <td>0</td>\n",
              "      <td>0</td>\n",
              "      <td>...</td>\n",
              "      <td>0</td>\n",
              "      <td>0</td>\n",
              "      <td>0</td>\n",
              "      <td>0</td>\n",
              "      <td>1</td>\n",
              "      <td>0</td>\n",
              "      <td>0</td>\n",
              "      <td>0</td>\n",
              "      <td>0</td>\n",
              "      <td>0</td>\n",
              "    </tr>\n",
              "    <tr>\n",
              "      <th>2</th>\n",
              "      <td>0</td>\n",
              "      <td>0</td>\n",
              "      <td>0</td>\n",
              "      <td>0</td>\n",
              "      <td>1</td>\n",
              "      <td>0</td>\n",
              "      <td>1</td>\n",
              "      <td>0</td>\n",
              "      <td>0</td>\n",
              "      <td>0</td>\n",
              "      <td>...</td>\n",
              "      <td>0</td>\n",
              "      <td>0</td>\n",
              "      <td>0</td>\n",
              "      <td>0</td>\n",
              "      <td>0</td>\n",
              "      <td>0</td>\n",
              "      <td>0</td>\n",
              "      <td>0</td>\n",
              "      <td>0</td>\n",
              "      <td>0</td>\n",
              "    </tr>\n",
              "    <tr>\n",
              "      <th>3</th>\n",
              "      <td>0</td>\n",
              "      <td>0</td>\n",
              "      <td>0</td>\n",
              "      <td>0</td>\n",
              "      <td>1</td>\n",
              "      <td>1</td>\n",
              "      <td>0</td>\n",
              "      <td>0</td>\n",
              "      <td>0</td>\n",
              "      <td>0</td>\n",
              "      <td>...</td>\n",
              "      <td>0</td>\n",
              "      <td>0</td>\n",
              "      <td>0</td>\n",
              "      <td>0</td>\n",
              "      <td>1</td>\n",
              "      <td>0</td>\n",
              "      <td>0</td>\n",
              "      <td>0</td>\n",
              "      <td>0</td>\n",
              "      <td>0</td>\n",
              "    </tr>\n",
              "    <tr>\n",
              "      <th>4</th>\n",
              "      <td>0</td>\n",
              "      <td>0</td>\n",
              "      <td>0</td>\n",
              "      <td>0</td>\n",
              "      <td>1</td>\n",
              "      <td>1</td>\n",
              "      <td>0</td>\n",
              "      <td>0</td>\n",
              "      <td>0</td>\n",
              "      <td>0</td>\n",
              "      <td>...</td>\n",
              "      <td>0</td>\n",
              "      <td>0</td>\n",
              "      <td>0</td>\n",
              "      <td>0</td>\n",
              "      <td>1</td>\n",
              "      <td>0</td>\n",
              "      <td>0</td>\n",
              "      <td>0</td>\n",
              "      <td>0</td>\n",
              "      <td>0</td>\n",
              "    </tr>\n",
              "  </tbody>\n",
              "</table>\n",
              "<p>5 rows × 90 columns</p>\n",
              "</div>\n",
              "    <div class=\"colab-df-buttons\">\n",
              "\n",
              "  <div class=\"colab-df-container\">\n",
              "    <button class=\"colab-df-convert\" onclick=\"convertToInteractive('df-56f49620-c0ae-49b6-8ca3-04c52cae9fd6')\"\n",
              "            title=\"Convert this dataframe to an interactive table.\"\n",
              "            style=\"display:none;\">\n",
              "\n",
              "  <svg xmlns=\"http://www.w3.org/2000/svg\" height=\"24px\" viewBox=\"0 -960 960 960\">\n",
              "    <path d=\"M120-120v-720h720v720H120Zm60-500h600v-160H180v160Zm220 220h160v-160H400v160Zm0 220h160v-160H400v160ZM180-400h160v-160H180v160Zm440 0h160v-160H620v160ZM180-180h160v-160H180v160Zm440 0h160v-160H620v160Z\"/>\n",
              "  </svg>\n",
              "    </button>\n",
              "\n",
              "  <style>\n",
              "    .colab-df-container {\n",
              "      display:flex;\n",
              "      gap: 12px;\n",
              "    }\n",
              "\n",
              "    .colab-df-convert {\n",
              "      background-color: #E8F0FE;\n",
              "      border: none;\n",
              "      border-radius: 50%;\n",
              "      cursor: pointer;\n",
              "      display: none;\n",
              "      fill: #1967D2;\n",
              "      height: 32px;\n",
              "      padding: 0 0 0 0;\n",
              "      width: 32px;\n",
              "    }\n",
              "\n",
              "    .colab-df-convert:hover {\n",
              "      background-color: #E2EBFA;\n",
              "      box-shadow: 0px 1px 2px rgba(60, 64, 67, 0.3), 0px 1px 3px 1px rgba(60, 64, 67, 0.15);\n",
              "      fill: #174EA6;\n",
              "    }\n",
              "\n",
              "    .colab-df-buttons div {\n",
              "      margin-bottom: 4px;\n",
              "    }\n",
              "\n",
              "    [theme=dark] .colab-df-convert {\n",
              "      background-color: #3B4455;\n",
              "      fill: #D2E3FC;\n",
              "    }\n",
              "\n",
              "    [theme=dark] .colab-df-convert:hover {\n",
              "      background-color: #434B5C;\n",
              "      box-shadow: 0px 1px 3px 1px rgba(0, 0, 0, 0.15);\n",
              "      filter: drop-shadow(0px 1px 2px rgba(0, 0, 0, 0.3));\n",
              "      fill: #FFFFFF;\n",
              "    }\n",
              "  </style>\n",
              "\n",
              "    <script>\n",
              "      const buttonEl =\n",
              "        document.querySelector('#df-56f49620-c0ae-49b6-8ca3-04c52cae9fd6 button.colab-df-convert');\n",
              "      buttonEl.style.display =\n",
              "        google.colab.kernel.accessAllowed ? 'block' : 'none';\n",
              "\n",
              "      async function convertToInteractive(key) {\n",
              "        const element = document.querySelector('#df-56f49620-c0ae-49b6-8ca3-04c52cae9fd6');\n",
              "        const dataTable =\n",
              "          await google.colab.kernel.invokeFunction('convertToInteractive',\n",
              "                                                    [key], {});\n",
              "        if (!dataTable) return;\n",
              "\n",
              "        const docLinkHtml = 'Like what you see? Visit the ' +\n",
              "          '<a target=\"_blank\" href=https://colab.research.google.com/notebooks/data_table.ipynb>data table notebook</a>'\n",
              "          + ' to learn more about interactive tables.';\n",
              "        element.innerHTML = '';\n",
              "        dataTable['output_type'] = 'display_data';\n",
              "        await google.colab.output.renderOutput(dataTable, element);\n",
              "        const docLink = document.createElement('div');\n",
              "        docLink.innerHTML = docLinkHtml;\n",
              "        element.appendChild(docLink);\n",
              "      }\n",
              "    </script>\n",
              "  </div>\n",
              "\n",
              "\n",
              "<div id=\"df-5fa03500-8805-4205-90e8-837b594aacf0\">\n",
              "  <button class=\"colab-df-quickchart\" onclick=\"quickchart('df-5fa03500-8805-4205-90e8-837b594aacf0')\"\n",
              "            title=\"Suggest charts\"\n",
              "            style=\"display:none;\">\n",
              "\n",
              "<svg xmlns=\"http://www.w3.org/2000/svg\" height=\"24px\"viewBox=\"0 0 24 24\"\n",
              "     width=\"24px\">\n",
              "    <g>\n",
              "        <path d=\"M19 3H5c-1.1 0-2 .9-2 2v14c0 1.1.9 2 2 2h14c1.1 0 2-.9 2-2V5c0-1.1-.9-2-2-2zM9 17H7v-7h2v7zm4 0h-2V7h2v10zm4 0h-2v-4h2v4z\"/>\n",
              "    </g>\n",
              "</svg>\n",
              "  </button>\n",
              "\n",
              "<style>\n",
              "  .colab-df-quickchart {\n",
              "      --bg-color: #E8F0FE;\n",
              "      --fill-color: #1967D2;\n",
              "      --hover-bg-color: #E2EBFA;\n",
              "      --hover-fill-color: #174EA6;\n",
              "      --disabled-fill-color: #AAA;\n",
              "      --disabled-bg-color: #DDD;\n",
              "  }\n",
              "\n",
              "  [theme=dark] .colab-df-quickchart {\n",
              "      --bg-color: #3B4455;\n",
              "      --fill-color: #D2E3FC;\n",
              "      --hover-bg-color: #434B5C;\n",
              "      --hover-fill-color: #FFFFFF;\n",
              "      --disabled-bg-color: #3B4455;\n",
              "      --disabled-fill-color: #666;\n",
              "  }\n",
              "\n",
              "  .colab-df-quickchart {\n",
              "    background-color: var(--bg-color);\n",
              "    border: none;\n",
              "    border-radius: 50%;\n",
              "    cursor: pointer;\n",
              "    display: none;\n",
              "    fill: var(--fill-color);\n",
              "    height: 32px;\n",
              "    padding: 0;\n",
              "    width: 32px;\n",
              "  }\n",
              "\n",
              "  .colab-df-quickchart:hover {\n",
              "    background-color: var(--hover-bg-color);\n",
              "    box-shadow: 0 1px 2px rgba(60, 64, 67, 0.3), 0 1px 3px 1px rgba(60, 64, 67, 0.15);\n",
              "    fill: var(--button-hover-fill-color);\n",
              "  }\n",
              "\n",
              "  .colab-df-quickchart-complete:disabled,\n",
              "  .colab-df-quickchart-complete:disabled:hover {\n",
              "    background-color: var(--disabled-bg-color);\n",
              "    fill: var(--disabled-fill-color);\n",
              "    box-shadow: none;\n",
              "  }\n",
              "\n",
              "  .colab-df-spinner {\n",
              "    border: 2px solid var(--fill-color);\n",
              "    border-color: transparent;\n",
              "    border-bottom-color: var(--fill-color);\n",
              "    animation:\n",
              "      spin 1s steps(1) infinite;\n",
              "  }\n",
              "\n",
              "  @keyframes spin {\n",
              "    0% {\n",
              "      border-color: transparent;\n",
              "      border-bottom-color: var(--fill-color);\n",
              "      border-left-color: var(--fill-color);\n",
              "    }\n",
              "    20% {\n",
              "      border-color: transparent;\n",
              "      border-left-color: var(--fill-color);\n",
              "      border-top-color: var(--fill-color);\n",
              "    }\n",
              "    30% {\n",
              "      border-color: transparent;\n",
              "      border-left-color: var(--fill-color);\n",
              "      border-top-color: var(--fill-color);\n",
              "      border-right-color: var(--fill-color);\n",
              "    }\n",
              "    40% {\n",
              "      border-color: transparent;\n",
              "      border-right-color: var(--fill-color);\n",
              "      border-top-color: var(--fill-color);\n",
              "    }\n",
              "    60% {\n",
              "      border-color: transparent;\n",
              "      border-right-color: var(--fill-color);\n",
              "    }\n",
              "    80% {\n",
              "      border-color: transparent;\n",
              "      border-right-color: var(--fill-color);\n",
              "      border-bottom-color: var(--fill-color);\n",
              "    }\n",
              "    90% {\n",
              "      border-color: transparent;\n",
              "      border-bottom-color: var(--fill-color);\n",
              "    }\n",
              "  }\n",
              "</style>\n",
              "\n",
              "  <script>\n",
              "    async function quickchart(key) {\n",
              "      const quickchartButtonEl =\n",
              "        document.querySelector('#' + key + ' button');\n",
              "      quickchartButtonEl.disabled = true;  // To prevent multiple clicks.\n",
              "      quickchartButtonEl.classList.add('colab-df-spinner');\n",
              "      try {\n",
              "        const charts = await google.colab.kernel.invokeFunction(\n",
              "            'suggestCharts', [key], {});\n",
              "      } catch (error) {\n",
              "        console.error('Error during call to suggestCharts:', error);\n",
              "      }\n",
              "      quickchartButtonEl.classList.remove('colab-df-spinner');\n",
              "      quickchartButtonEl.classList.add('colab-df-quickchart-complete');\n",
              "    }\n",
              "    (() => {\n",
              "      let quickchartButtonEl =\n",
              "        document.querySelector('#df-5fa03500-8805-4205-90e8-837b594aacf0 button');\n",
              "      quickchartButtonEl.style.display =\n",
              "        google.colab.kernel.accessAllowed ? 'block' : 'none';\n",
              "    })();\n",
              "  </script>\n",
              "</div>\n",
              "\n",
              "    </div>\n",
              "  </div>\n"
            ]
          },
          "metadata": {},
          "execution_count": 17
        }
      ],
      "source": [
        "df_pre.head()"
      ]
    },
    {
      "cell_type": "code",
      "execution_count": 18,
      "metadata": {
        "id": "zPdluWD1ao-O",
        "colab": {
          "base_uri": "https://localhost:8080/"
        },
        "outputId": "7fc1fc63-cf80-4a9d-b6b2-50c64790a6de"
      },
      "outputs": [
        {
          "output_type": "stream",
          "name": "stdout",
          "text": [
            "Selected feature names: ['product_sku_0', 'product_sku_2', 'sales_channel_0', 'sales_team_3', 'sales_team_17', 'product_cpe_6', 'product_cpe_7', 'sales_program_8', 'sales_program_18', 'customer_demo_age_gen_boomers', 'customer_demo_geography_1_3', 'customer_demo_geography_1_8']\n",
            "Accuracy on test data with selected features: 0.90\n"
          ]
        }
      ],
      "source": [
        "from sklearn.feature_selection import RFE\n",
        "from sklearn.tree import DecisionTreeClassifier\n",
        "from sklearn.model_selection import train_test_split\n",
        "import pandas as pd\n",
        "\n",
        "# Assuming df_pre is your original DataFrame and 'target' is the column name of the target variable\n",
        "\n",
        "# Extract the target variable and create X and y\n",
        "y = df_pre['target']\n",
        "X = df_pre.drop(columns=['target'])\n",
        "\n",
        "# Split the data into training and testing sets\n",
        "X_train, X_test, y_train, y_test = train_test_split(X, y, test_size=0.2, random_state=42)\n",
        "\n",
        "# Create a Decision Tree Classifier\n",
        "clf = DecisionTreeClassifier()\n",
        "\n",
        "# Specify the number of features to select (you can adjust this)\n",
        "num_features_to_select = 12\n",
        "\n",
        "# Create the RFE model\n",
        "rfe = RFE(estimator=clf, n_features_to_select=num_features_to_select)\n",
        "\n",
        "# Fit the RFE model to the training data\n",
        "rfe.fit(X_train, y_train)\n",
        "\n",
        "# Get the selected feature names\n",
        "selected_feature_names = X.columns[rfe.support_]\n",
        "\n",
        "# Print the names of the selected features\n",
        "print(\"Selected feature names:\", selected_feature_names.tolist())\n",
        "\n",
        "# Filter both the training and test sets using the selected features\n",
        "X_train_selected = X_train[selected_feature_names]\n",
        "X_test_selected = X_test[selected_feature_names]\n",
        "\n",
        "# Train and evaluate your model using the selected features and the test data\n",
        "clf.fit(X_train_selected, y_train)\n",
        "accuracy = clf.score(X_test_selected, y_test)\n",
        "print(f\"Accuracy on test data with selected features: {accuracy:.2f}\")\n",
        "\n",
        "# Create a final DataFrame including the selected features and the target variable\n",
        "df_final = df_pre[selected_feature_names].copy()\n",
        "df_final['target'] = y\n"
      ]
    },
    {
      "cell_type": "code",
      "execution_count": 19,
      "metadata": {
        "id": "WKnvZ8KA93Z8",
        "colab": {
          "base_uri": "https://localhost:8080/"
        },
        "outputId": "5350731d-0407-4c17-b5d4-166c32f40e32"
      },
      "outputs": [
        {
          "output_type": "stream",
          "name": "stdout",
          "text": [
            "<class 'pandas.core.frame.DataFrame'>\n",
            "Int64Index: 132071 entries, 0 to 134574\n",
            "Data columns (total 13 columns):\n",
            " #   Column                         Non-Null Count   Dtype\n",
            "---  ------                         --------------   -----\n",
            " 0   product_sku_0                  132071 non-null  int64\n",
            " 1   product_sku_2                  132071 non-null  int64\n",
            " 2   sales_channel_0                132071 non-null  int64\n",
            " 3   sales_team_3                   132071 non-null  int64\n",
            " 4   sales_team_17                  132071 non-null  int64\n",
            " 5   product_cpe_6                  132071 non-null  int64\n",
            " 6   product_cpe_7                  132071 non-null  int64\n",
            " 7   sales_program_8                132071 non-null  int64\n",
            " 8   sales_program_18               132071 non-null  int64\n",
            " 9   customer_demo_age_gen_boomers  132071 non-null  int64\n",
            " 10  customer_demo_geography_1_3    132071 non-null  int64\n",
            " 11  customer_demo_geography_1_8    132071 non-null  int64\n",
            " 12  target                         132071 non-null  int64\n",
            "dtypes: int64(13)\n",
            "memory usage: 14.1 MB\n"
          ]
        }
      ],
      "source": [
        "df_final.info()"
      ]
    },
    {
      "cell_type": "code",
      "execution_count": 20,
      "metadata": {
        "id": "Li0WJjebGgnP",
        "colab": {
          "base_uri": "https://localhost:8080/"
        },
        "outputId": "22dda881-f0f7-4b06-a6c9-2ea90133f5c5"
      },
      "outputs": [
        {
          "output_type": "stream",
          "name": "stdout",
          "text": [
            "Total Features: 13\n"
          ]
        }
      ],
      "source": [
        "# Feature count after reduction\n",
        "unique_column_names = set(df_final.columns)\n",
        "column_count = len(unique_column_names)\n",
        "print(f\"Total Features: {column_count}\")"
      ]
    },
    {
      "cell_type": "code",
      "execution_count": 21,
      "metadata": {
        "id": "48x7Fhe9cQ4T",
        "colab": {
          "base_uri": "https://localhost:8080/",
          "height": 460
        },
        "outputId": "d5d9d7a2-2363-4ab8-ba03-a9b762b245be"
      },
      "outputs": [
        {
          "output_type": "display_data",
          "data": {
            "text/plain": [
              "<Figure size 640x480 with 1 Axes>"
            ],
            "image/png": "[encoded data removed]"
          },
          "metadata": {}
        },
        {
          "output_type": "display_data",
          "data": {
            "text/plain": [
              "<Figure size 1000x800 with 0 Axes>"
            ]
          },
          "metadata": {}
        }
      ],
      "source": [
        "# Address class imbalance of the target\n",
        "\n",
        "df_final.target.value_counts().plot(kind='bar', title='Count (target)')\n",
        "\n",
        "plt.style.use('bmh')\n",
        "plt.figure(figsize=(10, 8))\n",
        "\n",
        "plt.show()"
      ]
    },
    {
      "cell_type": "code",
      "execution_count": 22,
      "metadata": {
        "id": "579_e1t-cQ6z",
        "colab": {
          "base_uri": "https://localhost:8080/",
          "height": 530
        },
        "outputId": "bc9f4720-17dc-4528-a5ca-2dc4cf84385b"
      },
      "outputs": [
        {
          "output_type": "stream",
          "name": "stdout",
          "text": [
            "Random over-sampling:\n",
            "0    118901\n",
            "1    118901\n",
            "Name: target, dtype: int64\n"
          ]
        },
        {
          "output_type": "display_data",
          "data": {
            "text/plain": [
              "<Figure size 640x480 with 1 Axes>"
            ],
            "image/png": "[encoded data removed]"
          },
          "metadata": {}
        },
        {
          "output_type": "display_data",
          "data": {
            "text/plain": [
              "<Figure size 1000x800 with 0 Axes>"
            ]
          },
          "metadata": {}
        }
      ],
      "source": [
        "# Oversample the minority class using \"random over sampling\"\n",
        "# This linear approach supports cleaner interpetation of\n",
        "# feature importance.\n",
        "\n",
        "count_class_0, count_class_1 = df_final.target.value_counts()\n",
        "\n",
        "# Divide by class\n",
        "df_class_0 = df_final[df_final['target'] == 0] #majority class\n",
        "df_class_1 = df_final[df_final['target'] == 1] #minority class\n",
        "\n",
        "df_class_1_over = df_class_1.sample(count_class_0, replace=True)\n",
        "df_over = pd.concat([df_class_0, df_class_1_over], axis=0)\n",
        "\n",
        "print('Random over-sampling:')\n",
        "print(df_over.target.value_counts())\n",
        "\n",
        "df_over.target.value_counts().plot(kind='bar', title='Count (target)')\n",
        "\n",
        "plt.style.use('bmh')\n",
        "plt.figure(figsize=(10, 8))\n",
        "\n",
        "plt.show()"
      ]
    },
    {
      "cell_type": "code",
      "execution_count": 23,
      "metadata": {
        "id": "n69jQigjcQ8-",
        "colab": {
          "base_uri": "https://localhost:8080/",
          "height": 443
        },
        "outputId": "c1b1c627-2afe-4934-b78e-7934fe788712"
      },
      "outputs": [
        {
          "output_type": "display_data",
          "data": {
            "text/plain": [
              "<Figure size 640x480 with 1 Axes>"
            ],
            "image/png": "[encoded data removed]"
          },
          "metadata": {}
        }
      ],
      "source": [
        "# Shuffle the array before train/test split\n",
        "\n",
        "df_over = shuffle(df_over,random_state=0)\n",
        "df_over.target.value_counts().plot(kind='bar', title='Count (target)');"
      ]
    },
    {
      "cell_type": "code",
      "execution_count": 24,
      "metadata": {
        "id": "xsuf0hCDcQ_e"
      },
      "outputs": [],
      "source": [
        "# Train/test splits\n",
        "\n",
        "X, y = df_over, df_over.pop(\"target\")\n",
        "X_train, X_test, y_train, y_test = train_test_split(X, y, test_size=0.20)#, random_state=42)"
      ]
    },
    {
      "cell_type": "markdown",
      "metadata": {
        "id": "g8Paoh4TsX2y"
      },
      "source": [
        "## Create Models"
      ]
    },
    {
      "cell_type": "markdown",
      "metadata": {
        "id": "vs6a52Ekb6CZ"
      },
      "source": [
        "### Logistic Regression"
      ]
    },
    {
      "cell_type": "code",
      "execution_count": 25,
      "metadata": {
        "id": "czqgJwwqcOYz"
      },
      "outputs": [],
      "source": [
        "# For Decision Tree Classifier\n",
        "\n",
        "df_lr = df_final.copy()"
      ]
    },
    {
      "cell_type": "code",
      "execution_count": 26,
      "metadata": {
        "id": "eQ5mHxOYcQ1w"
      },
      "outputs": [],
      "source": [
        "#Create Logistic Regression object\n",
        "\n",
        "from sklearn.linear_model import LogisticRegression\n",
        "\n",
        "model_lr = LogisticRegression()"
      ]
    },
    {
      "cell_type": "code",
      "execution_count": 27,
      "metadata": {
        "id": "tB-9-BN8cRB0",
        "colab": {
          "base_uri": "https://localhost:8080/"
        },
        "outputId": "a09011ae-3092-40f2-8108-2b6170827778"
      },
      "outputs": [
        {
          "output_type": "stream",
          "name": "stdout",
          "text": [
            "score_train:  0.7376748440136458\n"
          ]
        }
      ],
      "source": [
        "# Fit and score the model\n",
        "\n",
        "model_lr.fit(X_train, y_train.values)\n",
        "score_train = model_lr.score(X_train, y_train)\n",
        "print(\"score_train: \", score_train)"
      ]
    },
    {
      "cell_type": "code",
      "execution_count": 28,
      "metadata": {
        "id": "eLFLxhfx1YvY",
        "colab": {
          "base_uri": "https://localhost:8080/"
        },
        "outputId": "1fc73067-b71b-4943-8ace-b5d88117c6a4"
      },
      "outputs": [
        {
          "output_type": "stream",
          "name": "stdout",
          "text": [
            "              precision    recall  f1-score   support\n",
            "\n",
            "           0       0.78      0.67      0.72     23828\n",
            "           1       0.71      0.81      0.75     23733\n",
            "\n",
            "    accuracy                           0.74     47561\n",
            "   macro avg       0.74      0.74      0.74     47561\n",
            "weighted avg       0.74      0.74      0.74     47561\n",
            "\n"
          ]
        }
      ],
      "source": [
        "# Confusion matrix\n",
        "\n",
        "y_pred = model_lr.predict(X_test)\n",
        "cm = confusion_matrix(y_test, y_pred)\n",
        "cr = classification_report(y_test, y_pred)\n",
        "print(cr)"
      ]
    },
    {
      "cell_type": "code",
      "execution_count": 29,
      "metadata": {
        "id": "OByJr5001Y07",
        "colab": {
          "base_uri": "https://localhost:8080/",
          "height": 668
        },
        "outputId": "093bc367-b867-4a48-9a5e-1bfda388cde4"
      },
      "outputs": [
        {
          "output_type": "stream",
          "name": "stdout",
          "text": [
            ">1, train: 0.719, test: 0.719\n",
            ">2, train: 0.737, test: 0.736\n",
            ">3, train: 0.737, test: 0.736\n",
            ">4, train: 0.740, test: 0.739\n",
            ">5, train: 0.743, test: 0.743\n",
            ">6, train: 0.748, test: 0.748\n",
            ">7, train: 0.749, test: 0.748\n",
            ">8, train: 0.749, test: 0.748\n",
            ">9, train: 0.749, test: 0.750\n",
            ">10, train: 0.749, test: 0.750\n",
            ">11, train: 0.749, test: 0.750\n",
            ">12, train: 0.750, test: 0.750\n",
            ">13, train: 0.750, test: 0.750\n",
            ">14, train: 0.750, test: 0.750\n"
          ]
        },
        {
          "output_type": "display_data",
          "data": {
            "text/plain": [
              "<Figure size 640x480 with 1 Axes>"
            ],
            "image/png": "[encoded data removed]"
          },
          "metadata": {}
        }
      ],
      "source": [
        "# Look for overfitting via Accuracy\n",
        "\n",
        "# Define the tree depths to evaluate\n",
        "values = [i for i in range(1, 15)]\n",
        "\n",
        "# Define lists to collect scores\n",
        "train_scores, test_scores = list(), list()\n",
        "\n",
        "# Evaluate for each depth\n",
        "for i in values:\n",
        "\n",
        "  # configure the model\n",
        "  model_lr = DecisionTreeClassifier(max_depth=i)\n",
        "\n",
        "    # fit model on the training dataset\n",
        "  model_lr.fit(X_train, y_train)\n",
        "\n",
        "  # evaluate on the train dataset\n",
        "  train_yhat = model_lr.predict(X_train)\n",
        "  train_acc = accuracy_score(y_train, train_yhat)\n",
        "  train_scores.append(train_acc)\n",
        "\n",
        "  # evaluate on the test dataset\n",
        "  test_yhat = model_lr.predict(X_test)\n",
        "  test_acc = accuracy_score(y_test, test_yhat)\n",
        "  test_scores.append(test_acc)\n",
        "\n",
        "# summarize progress\n",
        "  print('>%d, train: %.3f, test: %.3f' % (i, train_acc, test_acc))\n",
        "\n",
        "# plot of train and test scores vs tree depth\n",
        "plt.plot(values, train_scores, '-o', label='Train')\n",
        "plt.plot(values, test_scores, '-o', label='Test')\n",
        "plt.legend()\n",
        "plt.show()"
      ]
    },
    {
      "cell_type": "code",
      "execution_count": 30,
      "metadata": {
        "id": "0jy5HeLK1cSl",
        "colab": {
          "base_uri": "https://localhost:8080/",
          "height": 484
        },
        "outputId": "1bee1e43-7785-4225-a5bc-88875576a4b5"
      },
      "outputs": [
        {
          "output_type": "stream",
          "name": "stdout",
          "text": [
            "Churn: ROC AUC=0.500\n",
            "Logistic: ROC AUC=0.828\n"
          ]
        },
        {
          "output_type": "display_data",
          "data": {
            "text/plain": [
              "<Figure size 640x480 with 1 Axes>"
            ],
            "image/png": "[encoded data removed]"
          },
          "metadata": {}
        }
      ],
      "source": [
        "# ROC curve and AUC\n",
        "\n",
        "# generate a no skill prediction (majority class)\n",
        "ns_probs = [0 for _ in range(len(y_test))]\n",
        "\n",
        "# predict probabilities\n",
        "lr_probs = model_lr.predict_proba(X_test)\n",
        "\n",
        "# keep probabilities for the positive outcome only\n",
        "lr_probs = lr_probs[:, 1]\n",
        "\n",
        "# calculate scores\n",
        "ns_auc = roc_auc_score(y_test, ns_probs)\n",
        "lr_auc = roc_auc_score(y_test, lr_probs)\n",
        "\n",
        "# summarize scores\n",
        "print('Churn: ROC AUC=%.3f' % (ns_auc))\n",
        "print('Logistic: ROC AUC=%.3f' % (lr_auc))\n",
        "\n",
        "# calculate roc curves\n",
        "ns_fpr, ns_tpr, _ = roc_curve(y_test, ns_probs)\n",
        "lr_fpr, lr_tpr, _ = roc_curve(y_test, lr_probs)\n",
        "\n",
        "# plot the roc curve for the model\n",
        "plt.plot(ns_fpr, ns_tpr, linestyle='--', label='Churn')\n",
        "plt.plot(lr_fpr, lr_tpr, marker='X', label='Prediction')\n",
        "\n",
        "# axis labels\n",
        "plt.xlabel('False Positive Rate')\n",
        "plt.ylabel('True Positive Rate')\n",
        "\n",
        "# show the legend\n",
        "plt.legend()\n",
        "\n",
        "# show the plot\n",
        "plt.show()"
      ]
    },
    {
      "cell_type": "markdown",
      "metadata": {
        "id": "WarsHx0x1yvv"
      },
      "source": [
        "###Decision Tree Classification"
      ]
    },
    {
      "cell_type": "code",
      "execution_count": 31,
      "metadata": {
        "id": "RxOeNsYVnzFq"
      },
      "outputs": [],
      "source": [
        "# For Decision Tree Classifier\n",
        "\n",
        "df_dtc = df_final.copy()"
      ]
    },
    {
      "cell_type": "code",
      "execution_count": 32,
      "metadata": {
        "id": "sAmA2I31Wur_"
      },
      "outputs": [],
      "source": [
        "#Create Decision Tree classifer object\n",
        "\n",
        "from sklearn.tree import DecisionTreeClassifier\n",
        "\n",
        "model_dtc = DecisionTreeClassifier()"
      ]
    },
    {
      "cell_type": "code",
      "execution_count": 33,
      "metadata": {
        "id": "LQsYhVVmisnM",
        "colab": {
          "base_uri": "https://localhost:8080/",
          "height": 460
        },
        "outputId": "95e88a84-78ba-4bee-8e89-4f7ac8ca3378"
      },
      "outputs": [
        {
          "output_type": "display_data",
          "data": {
            "text/plain": [
              "<Figure size 640x480 with 1 Axes>"
            ],
            "image/png": "[encoded data removed]"
          },
          "metadata": {}
        },
        {
          "output_type": "display_data",
          "data": {
            "text/plain": [
              "<Figure size 1000x800 with 0 Axes>"
            ]
          },
          "metadata": {}
        }
      ],
      "source": [
        "# Address class imbalance of the target\n",
        "\n",
        "df_dtc.target.value_counts().plot(kind='bar', title='Count (target)')\n",
        "\n",
        "plt.style.use('bmh')\n",
        "plt.figure(figsize=(10, 8))\n",
        "\n",
        "plt.show()"
      ]
    },
    {
      "cell_type": "code",
      "execution_count": 34,
      "metadata": {
        "id": "zBeXnqm1isp7",
        "colab": {
          "base_uri": "https://localhost:8080/",
          "height": 530
        },
        "outputId": "ebf5fc69-6898-451e-9d84-000fe6d42c72"
      },
      "outputs": [
        {
          "output_type": "stream",
          "name": "stdout",
          "text": [
            "Random over-sampling:\n",
            "0    118901\n",
            "1    118901\n",
            "Name: target, dtype: int64\n"
          ]
        },
        {
          "output_type": "display_data",
          "data": {
            "text/plain": [
              "<Figure size 640x480 with 1 Axes>"
            ],
            "image/png": "[encoded data removed]"
          },
          "metadata": {}
        },
        {
          "output_type": "display_data",
          "data": {
            "text/plain": [
              "<Figure size 1000x800 with 0 Axes>"
            ]
          },
          "metadata": {}
        }
      ],
      "source": [
        "# Oversample the minority class using \"random over sampling\"\n",
        "# This linear approach supports cleaner interpetation of\n",
        "# feature importance.\n",
        "\n",
        "count_class_0, count_class_1 = df_dtc.target.value_counts()\n",
        "\n",
        "# Divide by class\n",
        "df_class_0 = df_dtc[df_dtc['target'] == 0] #majority class\n",
        "df_class_1 = df_dtc[df_dtc['target'] == 1] #minority class\n",
        "\n",
        "df_class_1_over = df_class_1.sample(count_class_0, replace=True)\n",
        "df_over = pd.concat([df_class_0, df_class_1_over], axis=0)\n",
        "\n",
        "print('Random over-sampling:')\n",
        "print(df_over.target.value_counts())\n",
        "\n",
        "df_over.target.value_counts().plot(kind='bar', title='Count (target)')\n",
        "\n",
        "plt.style.use('bmh')\n",
        "plt.figure(figsize=(10, 8))\n",
        "\n",
        "plt.show()"
      ]
    },
    {
      "cell_type": "code",
      "execution_count": 35,
      "metadata": {
        "id": "WYkaFL5NissU",
        "colab": {
          "base_uri": "https://localhost:8080/",
          "height": 460
        },
        "outputId": "3f111010-a8ba-421d-a794-f6c3c95e92a7"
      },
      "outputs": [
        {
          "output_type": "execute_result",
          "data": {
            "text/plain": [
              "<Axes: title={'center': 'Count (target)'}>"
            ]
          },
          "metadata": {},
          "execution_count": 35
        },
        {
          "output_type": "display_data",
          "data": {
            "text/plain": [
              "<Figure size 640x480 with 1 Axes>"
            ],
            "image/png": "[encoded data removed]"
          },
          "metadata": {}
        }
      ],
      "source": [
        "# Shuffle the array before train/test split\n",
        "\n",
        "df_over = shuffle(df_over,random_state=0)\n",
        "df_over.target.value_counts().plot(kind='bar', title='Count (target)')"
      ]
    },
    {
      "cell_type": "code",
      "execution_count": 36,
      "metadata": {
        "id": "50L2tHwi8AWF"
      },
      "outputs": [],
      "source": [
        "# Train/test splits\n",
        "\n",
        "X, y = df_over, df_over.pop(\"target\")\n",
        "X_train, X_test, y_train, y_test = train_test_split(X, y, test_size=0.20)#, random_state=42)"
      ]
    },
    {
      "cell_type": "code",
      "execution_count": 37,
      "metadata": {
        "id": "qkWOesYvWusA",
        "colab": {
          "base_uri": "https://localhost:8080/"
        },
        "outputId": "f72799f2-725c-4408-bc2e-a3d21d696073"
      },
      "outputs": [
        {
          "output_type": "stream",
          "name": "stdout",
          "text": [
            "score_train:  0.7493757917588743\n"
          ]
        }
      ],
      "source": [
        "# Fit and score the model\n",
        "\n",
        "model_dtc.fit(X_train, y_train.values)\n",
        "score_train = model_dtc.score(X_train, y_train)\n",
        "print(\"score_train: \", score_train)"
      ]
    },
    {
      "cell_type": "code",
      "execution_count": 38,
      "metadata": {
        "id": "6zuFXJK3pM6u",
        "colab": {
          "base_uri": "https://localhost:8080/"
        },
        "outputId": "1d865e48-ba95-4ee0-9adc-12585e4d3b58"
      },
      "outputs": [
        {
          "output_type": "stream",
          "name": "stdout",
          "text": [
            "              precision    recall  f1-score   support\n",
            "\n",
            "           0       0.77      0.70      0.74     23764\n",
            "           1       0.73      0.80      0.76     23797\n",
            "\n",
            "    accuracy                           0.75     47561\n",
            "   macro avg       0.75      0.75      0.75     47561\n",
            "weighted avg       0.75      0.75      0.75     47561\n",
            "\n"
          ]
        }
      ],
      "source": [
        "# Confusion matrix\n",
        "\n",
        "y_pred = model_dtc.predict(X_test)\n",
        "cm = confusion_matrix(y_test, y_pred)\n",
        "cr = classification_report(y_test, y_pred)\n",
        "print(cr)"
      ]
    },
    {
      "cell_type": "code",
      "execution_count": 39,
      "metadata": {
        "id": "UoMHDJHHpM9I",
        "colab": {
          "base_uri": "https://localhost:8080/",
          "height": 668
        },
        "outputId": "58a6e195-fb8c-4f32-f349-09b7033eb6eb"
      },
      "outputs": [
        {
          "output_type": "stream",
          "name": "stdout",
          "text": [
            ">1, train: 0.718, test: 0.722\n",
            ">2, train: 0.736, test: 0.734\n",
            ">3, train: 0.736, test: 0.734\n",
            ">4, train: 0.740, test: 0.738\n",
            ">5, train: 0.743, test: 0.741\n",
            ">6, train: 0.747, test: 0.747\n",
            ">7, train: 0.749, test: 0.748\n",
            ">8, train: 0.749, test: 0.748\n",
            ">9, train: 0.749, test: 0.748\n",
            ">10, train: 0.749, test: 0.748\n",
            ">11, train: 0.749, test: 0.748\n",
            ">12, train: 0.749, test: 0.748\n",
            ">13, train: 0.749, test: 0.748\n",
            ">14, train: 0.749, test: 0.748\n"
          ]
        },
        {
          "output_type": "display_data",
          "data": {
            "text/plain": [
              "<Figure size 640x480 with 1 Axes>"
            ],
            "image/png": "[encoded data removed]"
          },
          "metadata": {}
        }
      ],
      "source": [
        "# Look for overfitting via Accuracy\n",
        "\n",
        "# Define the tree depths to evaluate\n",
        "values = [i for i in range(1, 15)]\n",
        "\n",
        "# Define lists to collect scores\n",
        "train_scores, test_scores = list(), list()\n",
        "\n",
        "# Evaluate for each depth\n",
        "for i in values:\n",
        "\n",
        "  # configure the model\n",
        "  model_dtc = DecisionTreeClassifier(max_depth=i)\n",
        "\n",
        "    # fit model on the training dataset\n",
        "  model_dtc.fit(X_train, y_train)\n",
        "\n",
        "  # evaluate on the train dataset\n",
        "  train_yhat = model_dtc.predict(X_train)\n",
        "  train_acc = accuracy_score(y_train, train_yhat)\n",
        "  train_scores.append(train_acc)\n",
        "\n",
        "  # evaluate on the test dataset\n",
        "  test_yhat = model_dtc.predict(X_test)\n",
        "  test_acc = accuracy_score(y_test, test_yhat)\n",
        "  test_scores.append(test_acc)\n",
        "\n",
        "# summarize progress\n",
        "  print('>%d, train: %.3f, test: %.3f' % (i, train_acc, test_acc))\n",
        "\n",
        "# plot of train and test scores vs tree depth\n",
        "plt.plot(values, train_scores, '-o', label='Train')\n",
        "plt.plot(values, test_scores, '-o', label='Test')\n",
        "plt.legend()\n",
        "plt.show()"
      ]
    },
    {
      "cell_type": "code",
      "execution_count": 40,
      "metadata": {
        "id": "fTGReefuou-4",
        "colab": {
          "base_uri": "https://localhost:8080/"
        },
        "outputId": "3953808a-8abb-4f7b-c73f-30cac32f1632"
      },
      "outputs": [
        {
          "output_type": "stream",
          "name": "stdout",
          "text": [
            "ccp_alpha\n",
            "class_weight\n",
            "criterion\n",
            "max_depth\n",
            "max_features\n",
            "max_leaf_nodes\n",
            "min_impurity_decrease\n",
            "min_samples_leaf\n",
            "min_samples_split\n",
            "min_weight_fraction_leaf\n",
            "random_state\n",
            "splitter\n"
          ]
        }
      ],
      "source": [
        "# Get model parameters\n",
        "\n",
        "model = DecisionTreeClassifier()\n",
        "for parameter in model.get_params():\n",
        "    print(parameter)"
      ]
    },
    {
      "cell_type": "code",
      "execution_count": null,
      "metadata": {
        "colab": {
          "base_uri": "https://localhost:8080/"
        },
        "id": "UCeSue33ovBJ",
        "outputId": "b3ff2ef4-3a21-4446-e007-d6f265ad0a4f"
      },
      "outputs": [
        {
          "output_type": "stream",
          "name": "stdout",
          "text": [
            "Fitting 5 folds for each of 378 candidates, totalling 1890 fits\n"
          ]
        }
      ],
      "source": [
        "# Set hyper-parameter dictionary to tune the model\n",
        "\n",
        "param_dict = {'criterion' :['gini', 'entropy'],\n",
        "            'max_depth' :range(1,8),\n",
        "            'min_samples_split' : range(20, 50, 10), # From Central Limit Theory\n",
        "            'min_samples_leaf': range(20, 50, 10),\n",
        "             'ccp_alpha' :[0.0001, 0.001, 0.01]}\n",
        "\n",
        "tree_class = DecisionTreeClassifier()\n",
        "\n",
        "grid = GridSearchCV(estimator=tree_class,\n",
        "        param_grid = param_dict,\n",
        "        cv = 5,\n",
        "        verbose= 1,\n",
        "        n_jobs = -1)\n",
        "\n",
        "grid.fit(X_train, y_train)"
      ]
    },
    {
      "cell_type": "code",
      "execution_count": null,
      "metadata": {
        "id": "D3aAZ1g5ovET"
      },
      "outputs": [],
      "source": [
        "# Extact the best preforming tested parameter values\n",
        "\n",
        "grid.best_params_"
      ]
    },
    {
      "cell_type": "code",
      "execution_count": null,
      "metadata": {
        "id": "rKNc5NNCnsuf"
      },
      "outputs": [],
      "source": [
        "# Update model\n",
        "\n",
        "model_dtc_p=DecisionTreeClassifier(ccp_alpha = 0.0001,\n",
        "                                   criterion ='entropy',\n",
        "                                   max_depth = 7,\n",
        "                                   min_samples_split = 20,\n",
        "                                   min_samples_leaf = 20)"
      ]
    },
    {
      "cell_type": "code",
      "execution_count": null,
      "metadata": {
        "id": "mtDlf8pCisxf"
      },
      "outputs": [],
      "source": [
        "#Fit and re-score the model\n",
        "\n",
        "model_dtc_p.fit(X_train, y_train.values)\n",
        "score_train = model_dtc_p.score(X_test, y_test)\n",
        "print(\"score_train: \", score_train)"
      ]
    },
    {
      "cell_type": "code",
      "execution_count": null,
      "metadata": {
        "id": "THUeLYtSPHKx"
      },
      "outputs": [],
      "source": [
        "# Confusion matrix\n",
        "\n",
        "y_pred = model_dtc_p.predict(X_test)\n",
        "cm = confusion_matrix(y_test, y_pred)\n",
        "cr = classification_report(y_test, y_pred)\n",
        "print(cr)"
      ]
    },
    {
      "cell_type": "code",
      "execution_count": null,
      "metadata": {
        "id": "Q7vq_gqFN5Gx"
      },
      "outputs": [],
      "source": [
        "# Look again for overfitting via Accuracy\n",
        "\n",
        "\n",
        "# Define the tree depths to evaluate\n",
        "values = [i for i in range(1, 15)]\n",
        "\n",
        "# Define lists to collect scores\n",
        "train_scores, test_scores = list(), list()\n",
        "\n",
        "# Evaluate for each depth\n",
        "for i in values:\n",
        "\n",
        "  # configure the model\n",
        "  model_dtc_p = DecisionTreeClassifier(max_depth=i)\n",
        "\n",
        "    # fit model on the training dataset\n",
        "  model_dtc_p.fit(X_train, y_train)\n",
        "\n",
        "  # evaluate on the train dataset\n",
        "  train_yhat = model_dtc_p.predict(X_train)\n",
        "  train_acc = accuracy_score(y_train, train_yhat)\n",
        "  train_scores.append(train_acc)\n",
        "\n",
        "  # evaluate on the test dataset\n",
        "  test_yhat = model_dtc_p.predict(X_test)\n",
        "  test_acc = accuracy_score(y_test, test_yhat)\n",
        "  test_scores.append(test_acc)\n",
        "\n",
        "# summarize progress\n",
        "  print('>%d, train: %.3f, test: %.3f' % (i, train_acc, test_acc))\n",
        "\n",
        "# plot of train and test scores vs tree depth\n",
        "plt.plot(values, train_scores, '-o', label='Train')\n",
        "plt.plot(values, test_scores, '-o', label='Test')\n",
        "plt.legend()\n",
        "plt.show()"
      ]
    },
    {
      "cell_type": "code",
      "execution_count": null,
      "metadata": {
        "id": "s9oWbgjpvrM6"
      },
      "outputs": [],
      "source": [
        "# ROC curve and AUC\n",
        "\n",
        "# generate a no skill prediction (majority class)\n",
        "ns_probs = [0 for _ in range(len(y_test))]\n",
        "\n",
        "# predict probabilities\n",
        "lr_probs = model_dtc_p.predict_proba(X_test)\n",
        "\n",
        "# keep probabilities for the positive outcome only\n",
        "lr_probs = lr_probs[:, 1]\n",
        "\n",
        "# calculate scores\n",
        "ns_auc = roc_auc_score(y_test, ns_probs)\n",
        "lr_auc = roc_auc_score(y_test, lr_probs)\n",
        "\n",
        "# summarize scores\n",
        "print('Churn: ROC AUC=%.3f' % (ns_auc))\n",
        "print('Logistic: ROC AUC=%.3f' % (lr_auc))\n",
        "\n",
        "# calculate roc curves\n",
        "ns_fpr, ns_tpr, _ = roc_curve(y_test, ns_probs)\n",
        "lr_fpr, lr_tpr, _ = roc_curve(y_test, lr_probs)\n",
        "\n",
        "# plot the roc curve for the model\n",
        "plt.plot(ns_fpr, ns_tpr, linestyle='--', label='Churn')\n",
        "plt.plot(lr_fpr, lr_tpr, marker='X', label='Prediction')\n",
        "\n",
        "# axis labels\n",
        "plt.xlabel('False Positive Rate')\n",
        "plt.ylabel('True Positive Rate')\n",
        "\n",
        "# show the legend\n",
        "plt.legend()\n",
        "\n",
        "# show the plot\n",
        "plt.show()"
      ]
    },
    {
      "cell_type": "markdown",
      "source": [
        "### Random Forrest Classifier"
      ],
      "metadata": {
        "id": "PeK_MFmyVsRp"
      }
    },
    {
      "cell_type": "code",
      "source": [
        "# For Random Forest Classifier\n",
        "from sklearn.ensemble import RandomForestClassifier\n",
        "\n",
        "df_rfc = df_pre.copy()"
      ],
      "metadata": {
        "id": "iThYjkX_VrnN"
      },
      "execution_count": null,
      "outputs": []
    },
    {
      "cell_type": "code",
      "source": [
        "from sklearn.ensemble import RandomForestClassifier\n",
        "\n",
        "# Create an instance of the RandomForestClassifier\n",
        "model_rfc = RandomForestClassifier()"
      ],
      "metadata": {
        "id": "-oilo2OhVrpl"
      },
      "execution_count": null,
      "outputs": []
    },
    {
      "cell_type": "code",
      "source": [
        "# Fit the model to the training data\n",
        "model_rfc.fit(X_train, y_train)\n",
        "\n",
        "# Make predictions on the test set\n",
        "y_pred = model_rfc.predict(X_test)\n",
        "\n",
        "# Calculate the accuracy\n",
        "accuracy = accuracy_score(y_test, y_pred)\n",
        "print(f\"Accuracy: {accuracy:.2f}\")"
      ],
      "metadata": {
        "id": "PeNMFX9jVrsK"
      },
      "execution_count": null,
      "outputs": []
    },
    {
      "cell_type": "code",
      "source": [
        "# Confusion matrix\n",
        "\n",
        "from sklearn.metrics import classification_report, confusion_matrix, roc_curve, roc_auc_score, accuracy_score\n",
        "\n",
        "y_pred = model_rfc.predict(X_test)\n",
        "cm = confusion_matrix(y_test, y_pred)\n",
        "cr = classification_report(y_test, y_pred)\n",
        "print(cr)"
      ],
      "metadata": {
        "id": "qzfsCHsld0Xz"
      },
      "execution_count": null,
      "outputs": []
    },
    {
      "cell_type": "code",
      "source": [
        "# Look for any overfitting\n",
        "\n",
        "from sklearn.metrics import accuracy_score\n",
        "import matplotlib.pyplot as plt\n",
        "\n",
        "# Define the tree depths to evaluate\n",
        "values = [i for i in range(1, 10)]\n",
        "\n",
        "# Define lists to collect scores\n",
        "train_scores, test_scores = list(), list()\n",
        "\n",
        "# Evaluate for each depth\n",
        "for i in values:\n",
        "\n",
        "    # Fit the model to the training data\n",
        "    model_rfc.fit(X_train, y_train)\n",
        "\n",
        "    # Evaluate on the train dataset\n",
        "    train_yhat = model_rfc.predict(X_train)\n",
        "    train_acc = accuracy_score(y_train, train_yhat)\n",
        "    train_scores.append(train_acc)\n",
        "\n",
        "    # Evaluate on the test dataset\n",
        "    test_yhat = model_rfc.predict(X_test)\n",
        "    test_acc = accuracy_score(y_test, test_yhat)\n",
        "    test_scores.append(test_acc)\n",
        "\n",
        "    # Summarize progress\n",
        "    print('>%d, train: %.3f, test: %.3f' % (i, train_acc, test_acc))\n",
        "\n",
        "# Plot of train and test scores vs tree depth\n",
        "plt.plot(values, train_scores, '-o', label='Train')\n",
        "plt.plot(values, test_scores, '-o', label='Test')\n",
        "plt.xlabel('Max Depth')\n",
        "plt.ylabel('Accuracy')\n",
        "plt.title('Learning Curves')\n",
        "plt.legend()\n",
        "plt.show()"
      ],
      "metadata": {
        "id": "Qa86R1rGd0aS"
      },
      "execution_count": null,
      "outputs": []
    },
    {
      "cell_type": "code",
      "source": [
        "# Get model parameters\n",
        "\n",
        "for parameter in model_rfc.get_params():\n",
        "    print(parameter)"
      ],
      "metadata": {
        "id": "lYaYbh5Ad0cj"
      },
      "execution_count": null,
      "outputs": []
    },
    {
      "cell_type": "code",
      "source": [
        "# Set hyper-parameter dictionary to tune the model\n",
        "# and resolve any overfitting\n",
        "\n",
        "from sklearn.model_selection import GridSearchCV\n",
        "\n",
        "param_dict = {\n",
        "    \"criterion\": [\"gini\", \"entropy\"], # Criterion used for RandomForestClassifier\n",
        "    \"max_depth\": range(1, 5),\n",
        "    'min_samples_split': range(20, 50, 10),\n",
        "    'min_samples_leaf': range(20, 50, 10),\n",
        "    'max_features': ['auto', 'sqrt', 'log2'], # Number of features to consider at every split\n",
        "    'ccp_alpha': [0.0001, 0.001, 0.01] # Cost-complexity pruning parameter\n",
        "}\n",
        "\n",
        "tree_class = RandomForestClassifier()\n",
        "\n",
        "grid = GridSearchCV(estimator=tree_class,\n",
        "        param_grid = param_dict,\n",
        "        cv = 10,\n",
        "        verbose= 1,\n",
        "        n_jobs = 1)\n",
        "\n",
        "grid.fit(X_train, y_train)"
      ],
      "metadata": {
        "id": "_RBx_529Vruv"
      },
      "execution_count": null,
      "outputs": []
    },
    {
      "cell_type": "markdown",
      "metadata": {
        "id": "XEmHEooTsei6"
      },
      "source": [
        "## Gradient Boost\n"
      ]
    },
    {
      "cell_type": "code",
      "execution_count": null,
      "metadata": {
        "id": "__72wYDms10Z"
      },
      "outputs": [],
      "source": [
        "# For Gradient Boost\n",
        "from sklearn.ensemble import GradientBoostingClassifier\n",
        "\n",
        "df_gb = df_pre.copy()"
      ]
    },
    {
      "cell_type": "code",
      "execution_count": null,
      "metadata": {
        "id": "Kd6Y1GRas123"
      },
      "outputs": [],
      "source": [
        "from sklearn.ensemble import GradientBoostingClassifier\n",
        "from sklearn.metrics import accuracy_score\n",
        "\n",
        "# Initialize the Gradient Boosting Classifier\n",
        "model_gb = GradientBoostingClassifier(n_estimators=100, learning_rate=1.0, max_depth=1, random_state=0)\n",
        "\n",
        "# Fit the model to the training data\n",
        "model_gb.fit(X_train, y_train)\n",
        "\n",
        "# Make predictions on the test set\n",
        "y_pred = gb_model.predict(X_test)\n",
        "\n",
        "# Calculate the accuracy\n",
        "accuracy = accuracy_score(y_test, y_pred)\n",
        "print(f\"Accuracy: {accuracy:.2f}\")\n"
      ]
    },
    {
      "cell_type": "code",
      "execution_count": null,
      "metadata": {
        "id": "NEcpXoR4ulte"
      },
      "outputs": [],
      "source": [
        "# Confusion matrix\n",
        "\n",
        "from sklearn.metrics import classification_report, confusion_matrix, roc_curve, roc_auc_score, accuracy_score\n",
        "\n",
        "y_pred = model_gb.predict(X_test)\n",
        "cm = confusion_matrix(y_test, y_pred)\n",
        "cr = classification_report(y_test, y_pred)\n",
        "print(cr)"
      ]
    },
    {
      "cell_type": "code",
      "execution_count": null,
      "metadata": {
        "id": "rGxo-I-Zultf"
      },
      "outputs": [],
      "source": [
        "# Look for any overfitting of the GB model\n",
        "\n",
        "from sklearn.metrics import accuracy_score\n",
        "import matplotlib.pyplot as plt\n",
        "\n",
        "# Define the tree depths to evaluate\n",
        "values = [i for i in range(1, 10)]\n",
        "\n",
        "# Define lists to collect scores\n",
        "train_scores, test_scores = list(), list()\n",
        "\n",
        "# Evaluate for each depth\n",
        "for i in values:\n",
        "    # Initialize the Gradient Boosting Classifier with varying max_depth\n",
        "    model_gb = GradientBoostingClassifier(n_estimators=100, learning_rate=1.0, max_depth=i, random_state=0)\n",
        "\n",
        "    # Fit the model to the training data\n",
        "    gb_model.fit(X_train, y_train)\n",
        "\n",
        "    # Evaluate on the train dataset\n",
        "    train_yhat = gb_model.predict(X_train)\n",
        "    train_acc = accuracy_score(y_train, train_yhat)\n",
        "    train_scores.append(train_acc)\n",
        "\n",
        "    # Evaluate on the test dataset\n",
        "    test_yhat = gb_model.predict(X_test)\n",
        "    test_acc = accuracy_score(y_test, test_yhat)\n",
        "    test_scores.append(test_acc)\n",
        "\n",
        "    # Summarize progress\n",
        "    print('>%d, train: %.3f, test: %.3f' % (i, train_acc, test_acc))\n",
        "\n",
        "# Plot of train and test scores vs tree depth\n",
        "plt.plot(values, train_scores, '-o', label='Train')\n",
        "plt.plot(values, test_scores, '-o', label='Test')\n",
        "plt.xlabel('Max Depth')\n",
        "plt.ylabel('Accuracy')\n",
        "plt.title('Learning Curves')\n",
        "plt.legend()\n",
        "plt.show()\n"
      ]
    },
    {
      "cell_type": "code",
      "execution_count": null,
      "metadata": {
        "id": "o1mOsNLZultf"
      },
      "outputs": [],
      "source": [
        "# Get model parameters\n",
        "\n",
        "for parameter in model_gb.get_params():\n",
        "    print(parameter)"
      ]
    },
    {
      "cell_type": "code",
      "execution_count": null,
      "metadata": {
        "id": "ILTN-jf9ultf"
      },
      "outputs": [],
      "source": [
        "# Set hyper-parameter dictionary to tune the model\n",
        "# and resolve any overfitting\n",
        "\n",
        "from sklearn.model_selection import GridSearchCV\n",
        "\n",
        "param_dict = {\"criterion\" :[\"friedman_mse\", \"squared_error\"],\n",
        "            \"max_depth\" :range(1,5),\n",
        "            'min_samples_split' : range(20, 50, 10), # From Central Limit Theory\n",
        "            'min_samples_leaf': range(20, 50, 10),\n",
        "             'ccp_alpha' :[0.0001, 0.001, 0.01]}\n",
        "\n",
        "tree_class = GradientBoostingClassifier()\n",
        "\n",
        "grid = GridSearchCV(estimator=tree_class,\n",
        "        param_grid = param_dict,\n",
        "        cv = 10,\n",
        "        verbose= 1,\n",
        "        n_jobs = 1)\n",
        "\n",
        "grid.fit(X_train, y_train)"
      ]
    },
    {
      "cell_type": "code",
      "source": [
        "# Update model\n",
        "model_gb_p=DecisionTreeClassifier(ccp_alpha = 0.0001,\n",
        "                                   criterion ='entropy',\n",
        "                                   max_depth = 7,\n",
        "                                   min_samples_split = 20,\n",
        "                                   min_samples_leaf = 20)"
      ],
      "metadata": {
        "id": "TiPpBUYDU8vH"
      },
      "execution_count": null,
      "outputs": []
    },
    {
      "cell_type": "code",
      "execution_count": null,
      "metadata": {
        "id": "rbXt6Zl1ultg"
      },
      "outputs": [],
      "source": [
        "#Fit and re-score the model\n",
        "\n",
        "model_gb_p.fit(X_train, y_train.values.ravel())\n",
        "score_train = model_gb_p.score(X_test, y_test)\n",
        "print(\"score_train: \", score_train)"
      ]
    },
    {
      "cell_type": "code",
      "execution_count": null,
      "metadata": {
        "id": "cQYdYbIAultg"
      },
      "outputs": [],
      "source": [
        "# Confusion matrix\n",
        "\n",
        "from sklearn.metrics import classification_report, confusion_matrix\n",
        "\n",
        "y_pred = model_gb_p.predict(X_test)\n",
        "cm = confusion_matrix(y_test, y_pred)\n",
        "cr = classification_report(y_test, y_pred)\n",
        "print(cr)"
      ]
    },
    {
      "cell_type": "code",
      "execution_count": null,
      "metadata": {
        "id": "ItYlmIU-ultg"
      },
      "outputs": [],
      "source": [
        "# ROC curve and AUC\n",
        "model_gb_p = GradientBoostingClassifier()\n",
        "\n",
        "# generate a no skill prediction (majority class)\n",
        "ns_probs = [0 for _ in range(len(y_test))]\n",
        "\n",
        "# fit a model\n",
        "#model = DecisionTreeClassifier()\n",
        "model_gb_p.fit(X_train, y_train.values)\n",
        "\n",
        "# predict probabilities\n",
        "lr_probs = model_dtc_p.predict_proba(X_test)\n",
        "\n",
        "# keep probabilities for the positive outcome only\n",
        "lr_probs = lr_probs[:, 1]\n",
        "\n",
        "# calculate scores\n",
        "ns_auc = roc_auc_score(y_test, ns_probs)\n",
        "lr_auc = roc_auc_score(y_test, lr_probs)\n",
        "\n",
        "# summarize scores\n",
        "print('Churn: ROC AUC=%.3f' % (ns_auc))\n",
        "print('Logistic: ROC AUC=%.3f' % (lr_auc))\n",
        "\n",
        "# calculate roc curves\n",
        "ns_fpr, ns_tpr, _ = roc_curve(y_test, ns_probs)\n",
        "lr_fpr, lr_tpr, _ = roc_curve(y_test, lr_probs)\n",
        "\n",
        "# plot the roc curve for the model\n",
        "plt.plot(ns_fpr, ns_tpr, linestyle='--', label='Churn')\n",
        "plt.plot(lr_fpr, lr_tpr, marker='X', label='Prediction')\n",
        "\n",
        "# axis labels\n",
        "plt.xlabel('False Positive Rate')\n",
        "plt.ylabel('True Positive Rate')\n",
        "\n",
        "# show the legend\n",
        "plt.legend()\n",
        "\n",
        "# show the plot\n",
        "plt.show()"
      ]
    },
    {
      "cell_type": "markdown",
      "metadata": {
        "id": "EFzSVLOzO29q"
      },
      "source": [
        "Gini Impurity\n",
        "Pros:\n",
        "\n",
        "Faster Computation: Gini impurity is computationally less intensive as it doesn't involve logarithmic calculations, which can be advantageous for large datasets.\n",
        "Performance: It tends to work well in practice and is the default in many decision tree algorithms, like in scikit-learn's DecisionTreeClassifier.\n",
        "Cons:\n",
        "\n",
        "Less Sensitive to Changes in Class Probabilities: Gini impurity might be less sensitive to probability changes of the minority class, as it squares the probability terms.\n",
        "Entropy (Information Gain)\n",
        "Pros:\n",
        "\n",
        "Sensitivity to Class Probability Changes: Entropy is more sensitive to changes in the class probabilities of the nodes, potentially leading to more balanced trees.\n",
        "Information Theoretic Model: It has a basis in information theory, providing a clear interpretation in terms of information content and uncertainty.\n",
        "Cons:\n",
        "\n",
        "Computational Intensity: Calculating entropy involves logarithmic computations, which can be more computationally intensive than Gini impurity, especially for very large datasets.\n",
        "Can Lead to Overfitting: In some cases, because entropy is more sensitive to class probabilities, it can lead to models that are more complex and potentially overfitted."
      ]
    },
    {
      "cell_type": "markdown",
      "metadata": {
        "id": "NxRxwA3ztaT2"
      },
      "source": [
        "Bayesian-Optimization Library:\n",
        "\n",
        "Pro: Offers a probabilistic model that can efficiently find the optimal parameters, especially useful when the number of experiments is limited.\n",
        "Con: Might be less efficient in high-dimensional space and requires careful choice of the prior.\n",
        "Scikit-Optimize:\n",
        "\n",
        "Pro: Integrates seamlessly with scikit-learn and offers several methods including Bayesian optimization, which is useful for optimizing expensive-to-evaluate functions.\n",
        "Con: Limited to optimization tasks and might not be as scalable as some other libraries.\n",
        "GPyOpt:\n",
        "\n",
        "Pro: Built on Gaussian Process models, it is excellent for fine-tuning where evaluations of the function are expensive.\n",
        "Con: Can be slower and less practical for large-scale hyperparameter optimization due to the computational cost of Gaussian Processes.\n",
        "Hyperopt:\n",
        "\n",
        "Pro: Uses Bayesian optimization and supports parallelization, making it efficient for large searches.\n",
        "Con: Can be complex to configure and understand, especially for beginners.\n",
        "SHERPA:\n",
        "\n",
        "Pro: Designed for hyperparameter tuning of machine learning models, supports a variety of algorithms, and is easy to use.\n",
        "Con: Might not offer as wide a range of optimization algorithms compared to some other tools.\n",
        "Optuna:\n",
        "\n",
        "Pro: A modern library with an easy-to-use interface, it offers efficient and flexible optimization with visualization features.\n",
        "Con: Its flexibility might come at the cost of a steeper learning curve for advanced features.\n",
        "Ray Tune:\n",
        "\n",
        "Pro: Highly scalable, supports a wide range of optimization algorithms, and integrates well with deep learning frameworks.\n",
        "Con: Its broad functionality can make it more complex to set up and use.\n",
        "Neural Network Intelligence (NNI):\n",
        "\n",
        "Pro: Designed for neural networks, it offers a rich set of tuning strategies and easy integration with popular deep learning frameworks.\n",
        "Con: More focused on neural networks, might be less applicable for other types of models.\n",
        "MLMachine:\n",
        "\n",
        "Pro: Provides an easy-to-use framework for machine learning workflows, including hyperparameter tuning.\n",
        "Con: Less known and might lack some advanced features or optimizations found in more established libraries.\n",
        "Talos:\n",
        "\n",
        "Pro: Specifically designed for Keras models, making it very convenient for users of this framework.\n",
        "Con: Limited to Keras, which might not be suitable if you're using different machine learning frameworks.\n",
        "GridSearchCV:\n",
        "\n",
        "Pro: Part of scikit-learn, very straightforward and easy to use for exhaustive search over specified parameter values.\n",
        "Con: Computationally expensive as it evaluates all possible combinations and not efficient for large hyperparameter spaces."
      ]
    },
    {
      "cell_type": "markdown",
      "metadata": {
        "id": "586FyZWtBB0W"
      },
      "source": [
        "##Statistical summaries of the dataset"
      ]
    },
    {
      "cell_type": "markdown",
      "metadata": {
        "id": "CHehZeblBIeV"
      },
      "source": [
        "##Model Interpretation and Insights"
      ]
    },
    {
      "cell_type": "markdown",
      "metadata": {
        "id": "E1COY1W0BgqE"
      },
      "source": [
        "##Conclusion and Recommendations"
      ]
    },
    {
      "cell_type": "markdown",
      "metadata": {
        "id": "s3DWz-c8Bj3W"
      },
      "source": [
        "##Appendices and References"
      ]
    },
    {
      "cell_type": "markdown",
      "metadata": {
        "id": "n0KLNmEAYlT-"
      },
      "source": [
        "## Ingest Data"
      ]
    },
    {
      "cell_type": "markdown",
      "metadata": {
        "id": "Oo6xva2IYvuw"
      },
      "source": [
        "## Data Cleansing"
      ]
    },
    {
      "cell_type": "markdown",
      "metadata": {
        "id": "H7y0u4XpJs-4"
      },
      "source": [
        "Selecting the appropriate value to plot train vs test to indenitfy potential ofverfitting.\n",
        "\n",
        "**Accuracy**\n",
        "<br>\n",
        "<br>\n",
        "Pros:\n",
        "<br>\n",
        "Simplicity: Accuracy is straightforward to understand and interpret. It's the percentage of correctly classified instances out of all instances.\n",
        "Usefulness in Balanced Datasets: In cases where classes are balanced, accuracy can be a reliable measure of model performance.\n",
        "<br>\n",
        "<br>\n",
        "Cons:\n",
        "<br>\n",
        "Misleading in Imbalanced Datasets: In situations where there is a significant class imbalance, accuracy can be misleading. A model could predict the majority class for all instances and still achieve high accuracy.\n",
        "No Insight into Type I/II Errors: Accuracy doesn't distinguish between the types of errors (false positives and false negatives).\n",
        "<br>\n",
        "<br>\n",
        "**F1-Score**\n",
        "<br>\n",
        "<br>\n",
        "Pros:\n",
        "<br>\n",
        "Balance Between Precision and Recall: F1-score provides a balance between precision and recall. It is especially useful in cases where we need to balance false positives and false negatives.\n",
        "Better for Imbalanced Datasets: It is more informative than accuracy in case of an imbalanced dataset.\n",
        "<br>\n",
        "<br>\n",
        "Cons:\n",
        "<br>\n",
        "More Complex to Understand: F1-score is not as intuitive as accuracy, especially for non-technical stakeholders.\n",
        "Not a Single Error Type Focus: If your specific problem requires optimizing specifically for either precision or recall (but not both), F1-score might not be the best metric.\n",
        "<br>\n",
        "<br>\n",
        "**ROC-AUC**\n",
        "<br>\n",
        "<br>\n",
        "Pros:\n",
        "<br>\n",
        "Performance Across Thresholds: AUC-ROC measures the model's performance across all classification thresholds, providing a comprehensive view of its effectiveness.\n",
        "Useful for Imbalanced Datasets: Like F1-score, it is more informative than accuracy for imbalanced classes.\n",
        "<br>\n",
        "<br>\n",
        "Cons:\n",
        "<br>\n",
        "Can Be Overly Optimistic: In highly imbalanced datasets, ROC-AUC might present an overly optimistic view of the model’s performance.\n",
        "Complexity in Interpretation: Understanding and explaining ROC curves and AUC can be more complex compared to straightforward metrics like accuracy."
      ]
    },
    {
      "cell_type": "code",
      "execution_count": null,
      "metadata": {
        "id": "ihM8GljGUw-R"
      },
      "outputs": [],
      "source": [
        "# Print Global SHAP values\n",
        "\n",
        "exp = TreeExplainer(model_dtc)\n",
        "sv = exp.shap_values(X_test)\n",
        "\n",
        "# Initialize an empty list to store feature statistics\n",
        "feature_stats = []\n",
        "feature_to_drop = []\n",
        "\n",
        "# Loop through each feature and calculate min, mean, and max SHAP values\n",
        "for i in range(len(X_test.columns)):\n",
        "    feature_name = X_test.columns[i]\n",
        "    shap_values_feature = sv[1][:, i]\n",
        "    min_val = np.min(shap_values_feature)\n",
        "    mean_val = np.mean(shap_values_feature)\n",
        "    max_val = np.max(shap_values_feature)\n",
        "    feature_stats.append([feature_name, min_val, mean_val, max_val]) # capture which features were dropped\n",
        "\n",
        "\n",
        "    # Append the statistics to the list of features to drop\n",
        "    # if 1==1:#not (min_val == mean_val == max_val == 0):\n",
        "    if (min_val == mean_val == max_val == 0):\n",
        "        feature_to_drop.append([feature_name, min_val, mean_val, max_val]) # capture which features were dropped\n",
        "\n",
        "# Create a DataFrames of all feature with their min, mean, max values\n",
        "feature_stats_df = pd.DataFrame(feature_stats, columns=['Feature', 'Min SHAP Value', 'Mean SHAP Value', 'Max SHAP Value'])\n",
        "\n",
        "# Load CSV file to the specified path\n",
        "csv_path = '/content/drive/MyDrive/Colab Notebooks/sklearn/feature_stats.csv'\n",
        "\n",
        "# Save the DataFrame to the specified path as a CSV file\n",
        "feature_stats_df.to_csv(csv_path, index=False)  # Set index=False to avoid saving the index column\n",
        "\n",
        "\n",
        "# Create a DataFrames of dropped features\n",
        "feature_to_drop_df = pd.DataFrame(feature_to_drop, columns=['Feature', 'Min SHAP Value', 'Mean SHAP Value', 'Max SHAP Value'])\n",
        "\n",
        "# Load CSV file to the specified path\n",
        "csv_path = '/content/drive/MyDrive/Colab Notebooks/sklearn/feature_to_drop_df.csv'\n",
        "\n",
        "# Save the DataFrame to the specified path as a CSV file\n",
        "feature_to_drop_df.to_csv(csv_path, index=False)  # Set index=False to avoid saving the index column\n",
        "\n",
        "\n",
        "# Plots\n",
        "# Display the SHAP summary plot for all features\n",
        "shap.summary_plot(sv[1], X_test, max_display=20)\n",
        "\n",
        "# Plotting the mean SHAP values for each feature\n",
        "plt.figure(figsize=(10, len(feature_stats_df) / 2))  # Adjust the figure size as needed\n",
        "feature_stats_df.sort_values(by='Mean SHAP Value', ascending=True, inplace=True)\n",
        "plt.barh(feature_stats_df['Feature'], feature_stats_df['Mean SHAP Value'], color='skyblue')\n",
        "plt.xlabel('Mean SHAP Value')\n",
        "plt.ylabel('Feature')\n",
        "plt.title('Mean SHAP Values for Each Feature')\n",
        "plt.show()\n",
        "\n",
        "print(feature_stats_df)\n"
      ]
    },
    {
      "cell_type": "code",
      "execution_count": null,
      "metadata": {
        "id": "6_561r2wDRb3"
      },
      "outputs": [],
      "source": [
        "# Force Plot visualization: single customer (Local SHAP values)\n",
        "\n",
        "# Calculate SHAP values for the first row of the X_test dataset\n",
        "shap_values_single = exp.shap_values(X_test.iloc[120]) # Good Exxample of really bad churn\n",
        "\n",
        "# Initialize JavaScript visualization in Google Colab (even if it might not display)\n",
        "shap.initjs()\n",
        "\n",
        "# Generate a force plot using matplotlib backend\n",
        "plt.figure(figsize=(40, 10))  # You can adjust the size as needed\n",
        "shap.force_plot(exp.expected_value[1], shap_values_single[1], X_test.iloc[0], feature_names=X_test.columns, matplotlib=True)\n",
        "plt.show()\n"
      ]
    },
    {
      "cell_type": "code",
      "execution_count": null,
      "metadata": {
        "id": "n4eHaz2XkhfQ"
      },
      "outputs": [],
      "source": [
        "# Filter customers based on all specified features and values simultaneously\n",
        "\n",
        "high_value_features = {\n",
        "    \"product_cpe_6\": 1,\n",
        "    \"product_sku_2\": 1\n",
        "    #\"sales_team_3\": 1\n",
        "    #\"customer_demo_age_gen_boomers\" : 1\n",
        "    #\"sales_program_18\" : 1\n",
        "                       }\n",
        "\n",
        "filtered_customers = X_test.copy()\n",
        "\n",
        "for feature, value in high_value_features.items():\n",
        "    filtered_customers = filtered_customers[filtered_customers[feature] == value]\n",
        "\n",
        "# DataFrame to store SHAP values\n",
        "shap_values_df = pd.DataFrame()\n",
        "\n",
        "# Iterate over filtered customers to calculate SHAP values and generate force plots\n",
        "for index, row in filtered_customers.iterrows():\n",
        "    # Calculate SHAP values for the current example\n",
        "    shap_values_example = exp.shap_values(row)\n",
        "\n",
        "    # Append the SHAP values to the DataFrame\n",
        "    shap_row_df = pd.DataFrame([shap_values_example[1]], columns=[f'shap_{col}' for col in X_test.columns])\n",
        "    shap_values_df = pd.concat([shap_values_df, shap_row_df], ignore_index=True)\n",
        "\n",
        "    # Generate a force plot for the example\n",
        "    shap.initjs()\n",
        "    shap.force_plot(exp.expected_value[1], shap_values_example[1], row, matplotlib=True)\n",
        "    plt.show()\n",
        "\n",
        "# Concatenate the SHAP values DataFrame with the filtered customers DataFrame\n",
        "final_df = pd.concat([filtered_customers.reset_index(drop=True), shap_values_df], axis=1)\n",
        "\n",
        "# Export to CSV\n",
        "final_df.to_csv('shap_values.csv', index=False)"
      ]
    },
    {
      "cell_type": "code",
      "execution_count": null,
      "metadata": {
        "id": "Oo_032UpQhT2"
      },
      "outputs": [],
      "source": [
        "from sklearn.tree import export_graphviz\n",
        "import graphviz\n",
        "from IPython.display import Image\n",
        "\n",
        "# Train a decision tree model\n",
        "model = DecisionTreeClassifier(max_depth=3)  # Limit depth for visualization\n",
        "model.fit(X_train, y_train)\n",
        "\n",
        "# Export as dot file\n",
        "dot_data = export_graphviz(model, out_file=None,\n",
        "                           feature_names=X_train.columns,\n",
        "                           class_names=['0', '1'],  # Assuming binary classification with classes '0' and '1'\n",
        "                           filled=True, rounded=True,\n",
        "                           special_characters=True,\n",
        "                           proportion=False,  # Set to 'True' to show percentages instead of sample counts\n",
        "                           precision=2,  # Set precision for floating point numbers\n",
        "                           label='all',  # Use 'root' to show labels at the root node or 'all' to show at all nodes\n",
        "                           leaves_parallel=False)  # Set to 'True' to align leaf nodes horizontally\n",
        "\n",
        "# Create graph from dot data\n",
        "graph = graphviz.Source(dot_data)\n",
        "\n",
        "# Render and show the graph\n",
        "Image(graph.pipe(format='png'))\n"
      ]
    },
    {
      "cell_type": "code",
      "execution_count": null,
      "metadata": {
        "id": "Q5GvheCOs192"
      },
      "outputs": [],
      "source": [
        "# Feature Importance from the Gradient model\n",
        "\n",
        "feature_importances = model_gb.feature_importances_\n",
        "\n",
        "# To display feature importance\n",
        "for i, feature in enumerate(X_train.columns):\n",
        "    print(f'Feature: {feature}, Importance: {feature_importances[i]}')"
      ]
    },
    {
      "cell_type": "code",
      "execution_count": null,
      "metadata": {
        "id": "o1aoTVFNs2Tt"
      },
      "outputs": [],
      "source": []
    },
    {
      "cell_type": "markdown",
      "metadata": {
        "id": "EmJDF_uI1Rkh"
      },
      "source": [
        "## Appendix / Parking lot"
      ]
    },
    {
      "cell_type": "code",
      "execution_count": null,
      "metadata": {
        "id": "j3X1_WwphJGL"
      },
      "outputs": [],
      "source": [
        "import pandas as pd\n",
        "from sklearn.model_selection import train_test_split\n",
        "from sklearn.tree import DecisionTreeClassifier\n",
        "from sklearn.feature_selection import RFE\n",
        "import matplotlib.pyplot as plt\n",
        "\n",
        "# Your initial setup (assumed to include data loading, preprocessing, etc.)\n",
        "# df_pre = ... (Your preprocessed DataFrame)\n",
        "\n",
        "# Setting up the DataFrame and target variable\n",
        "df_rfe = df_pre.copy()\n",
        "y = df_rfe.pop('target')\n",
        "X = df_rfe\n",
        "\n",
        "# Split the data into training and testing sets\n",
        "X_train, X_test, y_train, y_test = train_test_split(X, y, test_size=0.20, random_state=42)\n",
        "\n",
        "# Create a Decision Tree Classifier\n",
        "clf = DecisionTreeClassifier()\n",
        "\n",
        "# Specify the maximum number of features\n",
        "max_features_to_select = min(X_train.shape[1], 2)  # Adjust as needed\n",
        "\n",
        "# Initialize lists to store results\n",
        "selected_feature_counts = []\n",
        "accuracies = []\n",
        "\n",
        "# Initialize a dictionary to store the selected features for each number of features selected\n",
        "selected_features_dict = {}\n",
        "\n",
        "# Iterate over different numbers of selected features\n",
        "for num_features_to_select in range(1, max_features_to_select + 1):\n",
        "    # Create the RFE model\n",
        "    rfe = RFE(estimator=clf, n_features_to_select=num_features_to_select)\n",
        "\n",
        "    # Fit the RFE model to the training data\n",
        "    rfe.fit(X_train, y_train)\n",
        "\n",
        "    # Get the selected feature names\n",
        "    selected_features = X_train.columns[rfe.support_]\n",
        "\n",
        "    # Store the selected features in the dictionary\n",
        "    selected_features_dict[num_features_to_select] = selected_features.tolist()\n",
        "\n",
        "    # Train and evaluate your model using the selected features\n",
        "    clf.fit(X_train[selected_features], y_train)\n",
        "    accuracy = clf.score(X_test[selected_features], y_test)\n",
        "\n",
        "    # Append results to the lists\n",
        "    selected_feature_counts.append(num_features_to_select)\n",
        "    accuracies.append(accuracy)\n",
        "\n",
        "# Plot the accuracy vs. the number of selected features\n",
        "plt.figure(figsize=(10, 6))\n",
        "plt.plot(selected_feature_counts, accuracies, marker='o', linestyle='-')\n",
        "plt.xlabel(\"Number of Selected Features\")\n",
        "plt.ylabel(\"Accuracy\")\n",
        "plt.title(\"Accuracy vs. Number of Selected Features\")\n",
        "plt.grid(True)\n",
        "plt.show()\n",
        "\n",
        "# Print the selected features\n",
        "for num_features, features in selected_features_dict.items():\n",
        "    print(f\"Selected {num_features} Features: {features}\")\n"
      ]
    },
    {
      "cell_type": "code",
      "execution_count": null,
      "metadata": {
        "id": "GXY240ONLPw6"
      },
      "outputs": [],
      "source": [
        "# Look for overfitting via F1-score\n",
        "\n",
        "# Define the tree depths to evaluate\n",
        "values = [i for i in range(1, 15)]\n",
        "\n",
        "# Define lists to collect scores\n",
        "train_scores, test_scores = list(), list()\n",
        "\n",
        "# Evaluate for each depth\n",
        "for i in values:\n",
        "    # Configure the model\n",
        "    model_dtc = DecisionTreeClassifier(max_depth=i)\n",
        "\n",
        "    # Fit model on the training dataset\n",
        "    model_dtc.fit(X_train, y_train)\n",
        "\n",
        "    # Evaluate on the train dataset\n",
        "    train_yhat = model_dtc.predict(X_train)\n",
        "    train_f1 = f1_score(y_train, train_yhat, average='binary')  # Modify for binary/multiclass\n",
        "    train_scores.append(train_f1)\n",
        "\n",
        "    # Evaluate on the test dataset\n",
        "    test_yhat = model_dtc.predict(X_test)\n",
        "    test_f1 = f1_score(y_test, test_yhat, average='binary')  # Modify for binary/multiclass\n",
        "    test_scores.append(test_f1)\n",
        "\n",
        "    # Summarize progress\n",
        "    print('>%d, train: %.3f, test: %.3f' % (i, train_f1, test_f1))\n",
        "\n",
        "# Plot of train and test scores vs tree depth\n",
        "plt.plot(values, train_scores, '-o', label='Train')\n",
        "plt.plot(values, test_scores, '-o', label='Test')\n",
        "plt.legend()\n",
        "plt.show()\n"
      ]
    },
    {
      "cell_type": "code",
      "execution_count": null,
      "metadata": {
        "id": "PLEfU8SBnf3d"
      },
      "outputs": [],
      "source": []
    },
    {
      "cell_type": "code",
      "execution_count": null,
      "metadata": {
        "id": "6HpUk0l1ngTG"
      },
      "outputs": [],
      "source": []
    },
    {
      "cell_type": "code",
      "execution_count": null,
      "metadata": {
        "id": "gsuvREno-c1V"
      },
      "outputs": [],
      "source": [
        "# Feature importance matrix\n",
        "\n",
        "from shap import TreeExplainer, summary_plot\n",
        "\n",
        "model_dtc_p = model_dtc_p.fit(X_train, y_train)\n",
        "\n",
        "exp = TreeExplainer(model_dtc_p)\n",
        "sv = exp.shap_values(X_test)\n",
        "\n",
        "# Get the feature names\n",
        "feature_names = X_test.columns\n",
        "\n",
        "# Get the feature importance values for the chosen row\n",
        "feature_importance_values = sv[1][0]\n",
        "\n",
        "# Ensure that the lengths match\n",
        "if len(feature_names) == len(feature_importance_values):\n",
        "    # Create a DataFrame with feature names and their importance values\n",
        "    feature_importance_df = pd.DataFrame({'Feature': feature_names, 'Importance': feature_importance_values})\n",
        "\n",
        "    # Print the DataFrame\n",
        "    #print(\"Feature Importance DataFrame:\")\n",
        "    #print(feature_importance_df)\n",
        "\n",
        "\n",
        "# Sort the DataFrame by the importance column in ascending order\n",
        "sorted_df = feature_importance_df.sort_values(by='Importance')\n",
        "\n",
        "# Iterate over the sorted DataFrame and print feature and importance\n",
        "for Feature, Importance in sorted_df.itertuples(index=False):\n",
        "    print(f'Feature: {Feature}, Importance: {Importance}')"
      ]
    },
    {
      "cell_type": "code",
      "execution_count": null,
      "metadata": {
        "id": "kcy7XRQNcj5C"
      },
      "outputs": [],
      "source": [
        "# Collinearity: PCA\n",
        "\n",
        "from sklearn.decomposition import PCA\n",
        "from sklearn.preprocessing import StandardScaler\n",
        "\n",
        "# Standardize the data\n",
        "# scaler = StandardScaler()\n",
        "# X_scaled = scaler.fit_transform(X_independent)  # X_independent contains your numeric features\n",
        "\n",
        "X_scaled = df.select_dtypes(include=['int64', 'float64'])\n",
        "\n",
        "\n",
        "# Apply PCA with the desired number of components\n",
        "pca = PCA(n_components=2)  # Adjust the number of components as needed\n",
        "X_pca = pca.fit_transform(X_scaled)\n",
        "\n",
        "# X_pca contains the transformed features\n",
        "print(\"Explained Variance Ratio:\")\n",
        "print(pca.explained_variance_ratio_)"
      ]
    },
    {
      "cell_type": "markdown",
      "metadata": {
        "id": "FFf6xe2MibWi"
      },
      "source": [
        "### Original model. I dont have the source file."
      ]
    },
    {
      "cell_type": "code",
      "execution_count": null,
      "metadata": {
        "id": "qRkQ22cw4b7B"
      },
      "outputs": [],
      "source": [
        "df_raw = pd.read_csv(r'/content/qp_model_202301062016.csv')\n",
        "print(df_raw)"
      ]
    },
    {
      "cell_type": "code",
      "execution_count": null,
      "metadata": {
        "id": "bGUZ6YtEBOWz"
      },
      "outputs": [],
      "source": [
        "df_raw.head()"
      ]
    },
    {
      "cell_type": "code",
      "execution_count": null,
      "metadata": {
        "id": "TyNsE1Bul8Xl"
      },
      "outputs": [],
      "source": [
        "\n",
        "df_raw.info()\n",
        "\n",
        "#<class 'pandas.core.frame.DataFrame'>\n",
        "##RangeIndex: 265913 entries, 0 to 265912\n",
        "#d ata columns (total 17 columns):\n",
        "# Column                           Non-Null Count   Dtype\n",
        "-#--  ------                           --------------   -----\n",
        "# 0   churn_flag                       265913 non-null  int64\n",
        "# 1   age                              265913 non-null  int64\n",
        "# 2   data_points                      265913 non-null  int64\n",
        "# 3   voice_points                     265913 non-null  int64\n",
        "# 4   sms_points                       265913 non-null  int64\n",
        "# 5   total_points                     265913 non-null  int64\n",
        "# 6   count_of_approved_accounts_hist  265913 non-null  int64\n",
        "# 7   master                           265913 non-null  object\n",
        "# 8   state                            265913 non-null  object\n",
        "# 9   channel                          265913 non-null  object\n",
        "# 10  plantype                         265913 non-null  object\n",
        "# 11  eligibilityprogram               265913 non-null  object\n",
        "# 12  devicebrand                      265913 non-null  object\n",
        "# 13  bqplancode                       265913 non-null  int64\n",
        "# 14  is_ported                        265913 non-null  int64\n",
        "# 15  eligibility_new                  265913 non-null  int64\n",
        "# 16  groupchannelinperson             265913 non-null  int64"
      ]
    },
    {
      "cell_type": "code",
      "execution_count": null,
      "metadata": {
        "id": "G9JVGONfmL7J"
      },
      "outputs": [],
      "source": [
        "# Original model. I dont have the source file.\n",
        "df_raw.describe()"
      ]
    },
    {
      "cell_type": "code",
      "execution_count": null,
      "metadata": {
        "id": "mCIhojRdmZbY"
      },
      "outputs": [],
      "source": [
        "# Original model. I dont have the source file.\n",
        "df_raw.hist(bins=50, figsize=(20,15))\n",
        "plt.show()"
      ]
    },
    {
      "cell_type": "markdown",
      "metadata": {
        "id": "kUHAf0ozyP4A"
      },
      "source": [
        "Need to address class imbalance.<br>\n",
        "groupchannelinperson is almost certainly wrong."
      ]
    },
    {
      "cell_type": "code",
      "execution_count": null,
      "metadata": {
        "id": "TSQdUUSn7o4t"
      },
      "outputs": [],
      "source": [
        "\n",
        "# Look for Null values\n",
        "df_raw.isnull().sum()"
      ]
    },
    {
      "cell_type": "code",
      "execution_count": null,
      "metadata": {
        "id": "FXp4QL0P72T0"
      },
      "outputs": [],
      "source": [
        "\n",
        "nan_count = df_raw.isna().sum()\n",
        "print(nan_count )"
      ]
    },
    {
      "cell_type": "code",
      "execution_count": null,
      "metadata": {
        "id": "eL4QtzFYCcU0"
      },
      "outputs": [],
      "source": [
        "\n",
        "df_raw = df_raw.drop (['total_points','count_of_approved_accounts_hist','master','state','channel',\n",
        "                       'eligibilityprogram','devicebrand','bqplancode','is_ported','groupchannelinperson'], axis=1)"
      ]
    },
    {
      "cell_type": "code",
      "execution_count": null,
      "metadata": {
        "id": "1Pi4hpIRBL_8"
      },
      "outputs": [],
      "source": [
        "\n",
        "df_raw.info()"
      ]
    },
    {
      "cell_type": "code",
      "execution_count": null,
      "metadata": {
        "id": "O0HoUwvhtIHq"
      },
      "outputs": [],
      "source": [
        "df_raw.head()"
      ]
    },
    {
      "cell_type": "code",
      "execution_count": null,
      "metadata": {
        "id": "g-PdIUVNB010"
      },
      "outputs": [],
      "source": [
        "# age is a continuous variable that will need to be normalized.\n",
        "\n",
        "column = 'age'\n",
        "\n",
        "df_raw[column] = df_raw[column] /df_raw[column].abs().max()"
      ]
    },
    {
      "cell_type": "code",
      "execution_count": null,
      "metadata": {
        "id": "dXJ_jgB9CDUp"
      },
      "outputs": [],
      "source": [
        "# data fields are continuous variables that will need to be normalized.\n",
        "\n",
        "column = 'data_points'\n",
        "\n",
        "df_raw[column] = df_raw[column] /df_raw[column].abs().max()"
      ]
    },
    {
      "cell_type": "code",
      "execution_count": null,
      "metadata": {
        "id": "hQb-lXYxCI7e"
      },
      "outputs": [],
      "source": [
        "# data fields are continuous variables that will need to be normalized.\n",
        "\n",
        "column = 'voice_points'\n",
        "\n",
        "df_raw[column] = df_raw[column] /df_raw[column].abs().max()"
      ]
    },
    {
      "cell_type": "code",
      "execution_count": null,
      "metadata": {
        "id": "Ybaf94SlCKyT"
      },
      "outputs": [],
      "source": [
        "# data fields are continuous variables that will need to be normalized.\n",
        "\n",
        "column = 'sms_points'\n",
        "\n",
        "df_raw[column] = df_raw[column] /df_raw[column].abs().max()"
      ]
    },
    {
      "cell_type": "code",
      "execution_count": null,
      "metadata": {
        "id": "8YHq4W-bBqYy"
      },
      "outputs": [],
      "source": [
        "# Flatten the categorical features (where datatype = Object)\n",
        "\n",
        "df_raw = pd.get_dummies(df_raw, columns=['plantype'])"
      ]
    },
    {
      "cell_type": "code",
      "execution_count": null,
      "metadata": {
        "id": "0FDvAj0ICvDr"
      },
      "outputs": [],
      "source": [
        "# Collinearity matrix of non-categorical data\n",
        "\n",
        "df_num = df_raw.select_dtypes(include = ['float64', 'int64'])\n",
        "\n",
        "plt.style.use('bmh')\n",
        "plt.figure(figsize=(20, 16))\n",
        "\n",
        "corrMatrix = df_num.corr()\n",
        "sns.heatmap(corrMatrix, annot=True)\n",
        "plt.show()"
      ]
    },
    {
      "cell_type": "markdown",
      "metadata": {
        "id": "7w6vVbD9ylAX"
      },
      "source": [
        "Looks clean outside of the usage fields. Might combine them in an engineered feature."
      ]
    },
    {
      "cell_type": "code",
      "execution_count": null,
      "metadata": {
        "id": "p4A60D7TCXPK"
      },
      "outputs": [],
      "source": [
        "df_raw.head()"
      ]
    },
    {
      "cell_type": "code",
      "execution_count": null,
      "metadata": {
        "id": "2zqk3kehBQC9"
      },
      "outputs": [],
      "source": [
        "# Checking for class imbalance\n",
        "\n",
        "#df_raw.hist(bins=50, xlabelsize=8, ylabelsize=8, column='target')\n",
        "\n",
        "df_raw.churn_flag.value_counts().plot(kind='bar', title='Count (target)')\n",
        "\n",
        "plt.style.use('bmh')\n",
        "plt.figure(figsize=(20, 16))\n",
        "\n",
        "plt.show()"
      ]
    },
    {
      "cell_type": "code",
      "execution_count": null,
      "metadata": {
        "id": "PkyH4JBxCrrc"
      },
      "outputs": [],
      "source": [
        "# Oversample the minority class. This needs to be done after flattening the df to maintain oversampled values.\n",
        "\n",
        "count_class_0, count_class_1 = df_raw.churn_flag.value_counts()\n",
        "# Divide by class\n",
        "df_class_0 = df_raw[df_raw['churn_flag'] == 0] #majority class\n",
        "df_class_1 = df_raw[df_raw['churn_flag'] == 1] #minority class\n",
        "\n",
        "df_class_1_over = df_class_1.sample(count_class_0, replace=True)\n",
        "df_over = pd.concat([df_class_0, df_class_1_over], axis=0)\n",
        "\n",
        "print('Random over-sampling:')\n",
        "print(df_over.churn_flag.value_counts())\n",
        "\n",
        "df_over.churn_flag.value_counts().plot(kind='bar', title='Count (target)')\n",
        "\n",
        "plt.style.use('bmh')\n",
        "plt.figure(figsize=(20, 16))\n",
        "\n",
        "plt.show()"
      ]
    },
    {
      "cell_type": "code",
      "execution_count": null,
      "metadata": {
        "id": "cpG12BbLCw5r"
      },
      "outputs": [],
      "source": [
        "# Shuffle the array before train, test split\n",
        "\n",
        "df_over = shuffle(df_over,random_state=0)\n",
        "df_over.churn_flag.value_counts().plot(kind='bar', title='Count (target)');"
      ]
    },
    {
      "cell_type": "code",
      "execution_count": null,
      "metadata": {
        "id": "7E-tVjyJC0w3"
      },
      "outputs": [],
      "source": [
        "# Split into training and testing dataset.\n",
        "\n",
        "train_data, test_data = train_test_split(df_over,train_size=0.33)\n",
        "display(train_data)\n",
        "display(test_data)"
      ]
    },
    {
      "cell_type": "code",
      "execution_count": null,
      "metadata": {
        "id": "ol-EGmqIC40x"
      },
      "outputs": [],
      "source": [
        "# Split the target from the feature for the training data\n",
        "\n",
        "X_train = train_data.iloc[:,1:]\n",
        "X_train.head()"
      ]
    },
    {
      "cell_type": "code",
      "execution_count": null,
      "metadata": {
        "id": "0GARmZVdC8N9"
      },
      "outputs": [],
      "source": [
        "# Split the target from the feature for the training data\n",
        "\n",
        "y_train = train_data.iloc[:, [0]]\n",
        "y_train.head()"
      ]
    },
    {
      "cell_type": "code",
      "execution_count": null,
      "metadata": {
        "id": "G78VyEaMC_HH"
      },
      "outputs": [],
      "source": [
        "# Split the target from the feature for the test data\n",
        "\n",
        "X_test = test_data.iloc[:,1:]\n",
        "X_test.head()"
      ]
    },
    {
      "cell_type": "code",
      "execution_count": null,
      "metadata": {
        "id": "WQzkxM4IDBda"
      },
      "outputs": [],
      "source": [
        "# Split the target from the feature for the test data\n",
        "\n",
        "y_test = test_data.iloc[:, [0]]\n",
        "y_test.head()"
      ]
    },
    {
      "cell_type": "code",
      "execution_count": null,
      "metadata": {
        "id": "sqe9TMiODExG"
      },
      "outputs": [],
      "source": [
        "#Create Decision Tree classifer object\n",
        "\n",
        "model_dtc = DecisionTreeClassifier()"
      ]
    },
    {
      "cell_type": "code",
      "execution_count": null,
      "metadata": {
        "id": "o19KADhUDHWt"
      },
      "outputs": [],
      "source": [
        "# Fit and score the model\n",
        "\n",
        "model_dtc.fit(X_train, y_train.values.ravel())\n",
        "score_train = model_dtc.score(X_train, y_train)\n",
        "print(\"score_train: \", score_train)\n",
        "print(X_train.shape, y_train.shape)"
      ]
    },
    {
      "cell_type": "code",
      "execution_count": null,
      "metadata": {
        "id": "u9gL2cyoDKmC"
      },
      "outputs": [],
      "source": [
        "# Score the test dataset\n",
        "model_dtc.fit(X_test, y_test.values.ravel())\n",
        "score_test = model_dtc.score(X_test, y_test)\n",
        "print(\"score_test: \", score_test)"
      ]
    },
    {
      "cell_type": "code",
      "execution_count": null,
      "metadata": {
        "id": "wuCqIWNRpJ-6"
      },
      "outputs": [],
      "source": [
        "y_pred = model_dtc.predict(X_test)\n",
        "cm = confusion_matrix(y_test, y_pred)\n",
        "cr = classification_report(y_test, y_pred)\n",
        "print(cr)"
      ]
    },
    {
      "cell_type": "markdown",
      "metadata": {
        "id": "ich3asAnILHu"
      },
      "source": [
        "Check for Overfitness: Learning Curves<br>\n",
        "https://machinelearningmastery.com/overfitting-machine-learning-models/"
      ]
    },
    {
      "cell_type": "code",
      "execution_count": null,
      "metadata": {
        "id": "mfPkVynAsCT7"
      },
      "outputs": [],
      "source": [
        "# define the tree depths to evaluate\n",
        "values = [i for i in range(1, 21)]\n",
        "# define lists to collect scores\n",
        "train_scores, test_scores = list(), list()\n",
        "# evaluate a decision tree for each depth\n",
        "for i in values:\n",
        " # configure the model\n",
        " model_dtc = DecisionTreeClassifier(max_depth=i)\n",
        " # fit model on the training dataset\n",
        " model_dtc.fit(X_train, y_train)\n",
        " # evaluate on the train dataset\n",
        " train_yhat = model_dtc.predict(X_train)\n",
        " train_acc = accuracy_score(y_train, train_yhat)\n",
        " train_scores.append(train_acc)\n",
        " # evaluate on the test dataset\n",
        " test_yhat = model_dtc.predict(X_test)\n",
        " test_acc = accuracy_score(y_test, test_yhat)\n",
        " test_scores.append(test_acc)\n",
        " # summarize progress\n",
        " print('>%d, train: %.3f, test: %.3f' % (i, train_acc, test_acc))\n",
        " # plot of train and test scores vs tree depth\n",
        "plt.plot(values, train_scores, '-o', label='Train')\n",
        "plt.plot(values, test_scores, '-o', label='Test')\n",
        "plt.legend()\n",
        "plt.show()"
      ]
    },
    {
      "cell_type": "markdown",
      "metadata": {
        "id": "fwlMZE7it7eM"
      },
      "source": [
        "Looks to be overfit after ~8 levels."
      ]
    },
    {
      "cell_type": "markdown",
      "metadata": {
        "id": "_F6_zEKSzVrf"
      },
      "source": [
        "Might try k-fold next."
      ]
    },
    {
      "cell_type": "markdown",
      "metadata": {
        "id": "ytLEaHyrX4Q5"
      },
      "source": [
        "https://elitedatascience.com/overfitting-in-machine-learning"
      ]
    },
    {
      "cell_type": "markdown",
      "metadata": {
        "id": "ONG8szIxgHrG"
      },
      "source": [
        "Tuning the model"
      ]
    },
    {
      "cell_type": "code",
      "execution_count": null,
      "metadata": {
        "id": "OnjrUUEQDNdl"
      },
      "outputs": [],
      "source": [
        "# Get model parameters\n",
        "\n",
        "model = DecisionTreeClassifier()\n",
        "for parameter in model.get_params():\n",
        "    print(parameter)"
      ]
    },
    {
      "cell_type": "code",
      "execution_count": null,
      "metadata": {
        "id": "M-5-in4jDQfV"
      },
      "outputs": [],
      "source": [
        "# Set hyper-parameter dictionary to test\n",
        "\n",
        "param_dict = {\"criterion\" :[\"gini\", \"entropy\"],\n",
        "            \"max_depth\" :range(1,8),\n",
        "            #\"min_samples_split\" :range(2,10),\n",
        "            #\"min_samples_leaf\" :range(1,5),\n",
        "             \"ccp_alpha\" :[0.0001, 0.001, 0.01, 0.1]}\n",
        "\n",
        "#tree_class = DecisionTreeClassifier(random_state=1024)\n",
        "tree_class = DecisionTreeClassifier()\n",
        "\n",
        "grid = GridSearchCV(estimator=tree_class,\n",
        "        param_grid = param_dict,\n",
        "        cv = 10,\n",
        "        verbose= 1,\n",
        "        n_jobs = 1)\n",
        "\n",
        "grid.fit(X_train, y_train)"
      ]
    },
    {
      "cell_type": "code",
      "execution_count": null,
      "metadata": {
        "id": "nISY_-Q5DUEz"
      },
      "outputs": [],
      "source": [
        "grid.best_params_"
      ]
    },
    {
      "cell_type": "code",
      "execution_count": null,
      "metadata": {
        "id": "SJz9jLmnIeDc"
      },
      "outputs": [],
      "source": [
        "# Update model\n",
        "\n",
        "model_dtc_p=DecisionTreeClassifier(ccp_alpha = 0.0001,\n",
        "                                   criterion ='gini',\n",
        "                                    max_depth = 7)"
      ]
    },
    {
      "cell_type": "code",
      "execution_count": null,
      "metadata": {
        "id": "ED1bLZ9eIgf7"
      },
      "outputs": [],
      "source": [
        "#Fit and score the model\n",
        "\n",
        "model_dtc_p.fit(X_train, y_train.values.ravel())\n",
        "score_train = model_dtc_p.score(X_train, y_train)\n",
        "print(\"score_train: \", score_train)"
      ]
    },
    {
      "cell_type": "code",
      "execution_count": null,
      "metadata": {
        "id": "CjYJOV91IokF"
      },
      "outputs": [],
      "source": [
        "# Score the test dataset\n",
        "\n",
        "score_test = model_dtc_p.score(X_test, y_test)\n",
        "print(\"score_test: \", score_test)"
      ]
    },
    {
      "cell_type": "code",
      "execution_count": null,
      "metadata": {
        "id": "sRmo5Z7FIq2J"
      },
      "outputs": [],
      "source": [
        "# ROC curve and AUC\n",
        "\n",
        "# generate a no skill prediction (majority class)\n",
        "ns_probs = [0 for _ in range(len(y_test))]\n",
        "\n",
        "# fit a model\n",
        "#model = DecisionTreeClassifier()\n",
        "model_dtc_p.fit(X_train, y_train.values.ravel())\n",
        "\n",
        "# predict probabilities\n",
        "lr_probs = model_dtc_p.predict_proba(X_test)\n",
        "\n",
        "# keep probabilities for the positive outcome only\n",
        "lr_probs = lr_probs[:, 1]\n",
        "\n",
        "# calculate scores\n",
        "ns_auc = roc_auc_score(y_test, ns_probs)\n",
        "lr_auc = roc_auc_score(y_test, lr_probs)\n",
        "\n",
        "# summarize scores\n",
        "print('Churn: ROC AUC=%.3f' % (ns_auc))\n",
        "print('Logistic: ROC AUC=%.3f' % (lr_auc))\n",
        "\n",
        "# calculate roc curves\n",
        "ns_fpr, ns_tpr, _ = roc_curve(y_test, ns_probs)\n",
        "lr_fpr, lr_tpr, _ = roc_curve(y_test, lr_probs)\n",
        "\n",
        "# plot the roc curve for the model\n",
        "plt.plot(ns_fpr, ns_tpr, linestyle='--', label='Churn')\n",
        "plt.plot(lr_fpr, lr_tpr, marker='X', label='Prediction')\n",
        "\n",
        "# axis labels\n",
        "plt.xlabel('False Positive Rate')\n",
        "plt.ylabel('True Positive Rate')\n",
        "\n",
        "# show the legend\n",
        "plt.legend()\n",
        "\n",
        "# show the plot\n",
        "plt.show()"
      ]
    },
    {
      "cell_type": "code",
      "execution_count": null,
      "metadata": {
        "id": "E02xj1O5I1B_"
      },
      "outputs": [],
      "source": [
        "cm = confusion_matrix(y_test, model_dtc.predict(X_test))\n",
        "\n",
        "fig, ax = plt.subplots(figsize=(8, 8))\n",
        "ax.imshow(cm)\n",
        "ax.grid(False)\n",
        "ax.xaxis.set(ticks=(0, 1), ticklabels=('Predicted 0s', 'Predicted 1s'))\n",
        "ax.yaxis.set(ticks=(0, 1), ticklabels=('Actual 0s', 'Actual 1s'))\n",
        "ax.set_ylim(1.5, -0.5)\n",
        "for i in range(2):\n",
        "    for j in range(2):\n",
        "        ax.text(j, i, cm[i, j], ha='center', va='center', color='red')\n",
        "#plt.show()"
      ]
    },
    {
      "cell_type": "code",
      "execution_count": null,
      "metadata": {
        "id": "fuKmYDqLI57g"
      },
      "outputs": [],
      "source": [
        "\n",
        "y_pred = model_dtc_p.predict(X_test)\n",
        "cm = confusion_matrix(y_test, y_pred)\n",
        "cr = classification_report(y_test, y_pred)\n",
        "print(cr)"
      ]
    },
    {
      "cell_type": "markdown",
      "metadata": {
        "id": "Q8SgkwIQl82K"
      },
      "source": [
        "Re-check for overfitting"
      ]
    },
    {
      "cell_type": "code",
      "execution_count": null,
      "metadata": {
        "id": "_HTDLaLWl_gu"
      },
      "outputs": [],
      "source": [
        "# evaluate decision tree performance on train and test sets with different tree depths\n",
        "# define lists to collect scores\n",
        "train_scores, test_scores = list(), list()\n",
        "# define the tree depths to evaluate\n",
        "values = [i for i in range(1, 9)]\n",
        "# evaluate a decision tree for each depth\n",
        "for i in values:\n",
        " # configure the model\n",
        " model_dtc_p = DecisionTreeClassifier(max_depth=i)\n",
        " # fit model on the training dataset\n",
        " model_dtc_p.fit(X_train, y_train)\n",
        " # evaluate on the train dataset\n",
        " train_yhat = model_dtc_p.predict(X_train)\n",
        " train_acc = accuracy_score(y_train, train_yhat)\n",
        " train_scores.append(train_acc)\n",
        " # evaluate on the test dataset\n",
        " test_yhat = model_dtc_p.predict(X_test)\n",
        " test_acc = accuracy_score(y_test, test_yhat)\n",
        " test_scores.append(test_acc)\n",
        " # summarize progress\n",
        " print('>%d, train: %.3f, test: %.3f' % (i, train_acc, test_acc))\n",
        "# plot of train and test scores vs tree depth\n",
        "plt.plot(values, train_scores, '-o', label='Train')\n",
        "plt.plot(values, test_scores, '-o', label='Test')\n",
        "plt.legend()\n",
        "plt.show()"
      ]
    },
    {
      "cell_type": "markdown",
      "metadata": {
        "id": "2og7GM65z1zg"
      },
      "source": [
        "Much better. But does it hold on a fresh dataset ?"
      ]
    },
    {
      "cell_type": "markdown",
      "metadata": {
        "id": "aPaYlFmn1SUo"
      },
      "source": [
        "Load new data.\n",
        "Need to make sure both datasets have exactly the same feature in the SQL."
      ]
    },
    {
      "cell_type": "code",
      "execution_count": null,
      "metadata": {
        "id": "fcXRQQB21D1j"
      },
      "outputs": [],
      "source": [
        "df_raw_may = pd.read_csv(r'/content/qp_model_052023_202301071833.csv')\n",
        "#print(df_raw)"
      ]
    },
    {
      "cell_type": "code",
      "execution_count": null,
      "metadata": {
        "id": "QRn5Jz1K3n6u"
      },
      "outputs": [],
      "source": [
        "df_raw_may.head()"
      ]
    },
    {
      "cell_type": "code",
      "execution_count": null,
      "metadata": {
        "id": "dH6jVJBh3n6v"
      },
      "outputs": [],
      "source": [
        "df_raw_may.info()"
      ]
    },
    {
      "cell_type": "code",
      "execution_count": null,
      "metadata": {
        "id": "lDJ36VnO3n6v"
      },
      "outputs": [],
      "source": [
        "df_raw_may.describe()"
      ]
    },
    {
      "cell_type": "code",
      "execution_count": null,
      "metadata": {
        "id": "k5K9zZ5K3n6v"
      },
      "outputs": [],
      "source": [
        "df_raw_may.hist(bins=50, figsize=(20,15))\n",
        "plt.show()"
      ]
    },
    {
      "cell_type": "code",
      "execution_count": null,
      "metadata": {
        "id": "dqc2j4aq3n6w"
      },
      "outputs": [],
      "source": [
        "# Look for Null values\n",
        "df_raw_may.isnull().sum()"
      ]
    },
    {
      "cell_type": "code",
      "execution_count": null,
      "metadata": {
        "id": "Npqjk7SW3n6w"
      },
      "outputs": [],
      "source": [
        "nan_count = df_raw_may.isna().sum()\n",
        "print(nan_count )"
      ]
    },
    {
      "cell_type": "code",
      "execution_count": null,
      "metadata": {
        "id": "mHDAJyy_3n6w"
      },
      "outputs": [],
      "source": [
        "df_raw_may = df_raw_may.drop (['total_points','count_of_approved_accounts_hist','master','state',\n",
        "                       'groupchannel','eligibilityprogram','devicebrand','bqplancode','is_ported'], axis=1)"
      ]
    },
    {
      "cell_type": "code",
      "execution_count": null,
      "metadata": {
        "id": "-VSsPNw_3n6w"
      },
      "outputs": [],
      "source": [
        "df_raw_may.info()"
      ]
    },
    {
      "cell_type": "code",
      "execution_count": null,
      "metadata": {
        "id": "r9dEGZRz3n6w"
      },
      "outputs": [],
      "source": [
        "df_raw_may.head()"
      ]
    },
    {
      "cell_type": "code",
      "execution_count": null,
      "metadata": {
        "id": "U2N6t5QN6KDy"
      },
      "outputs": [],
      "source": []
    },
    {
      "cell_type": "code",
      "execution_count": null,
      "metadata": {
        "id": "Q7uILrSs6KGE"
      },
      "outputs": [],
      "source": []
    },
    {
      "cell_type": "code",
      "execution_count": null,
      "metadata": {
        "id": "tgH8_7dy6KIK"
      },
      "outputs": [],
      "source": []
    },
    {
      "cell_type": "code",
      "execution_count": null,
      "metadata": {
        "id": "sbhMp4-I6KK3"
      },
      "outputs": [],
      "source": []
    },
    {
      "cell_type": "code",
      "execution_count": null,
      "metadata": {
        "id": "1_pdkHF73n6x"
      },
      "outputs": [],
      "source": [
        "# age is a continuous variable that will need to be normalized.\n",
        "\n",
        "column = 'age'\n",
        "\n",
        "df_raw_may[column] = df_raw_may[column] /df_raw_may[column].abs().max()"
      ]
    },
    {
      "cell_type": "code",
      "execution_count": null,
      "metadata": {
        "id": "3voFVW_Z3n6x"
      },
      "outputs": [],
      "source": [
        "# data fields are continuous variables that will need to be normalized.\n",
        "\n",
        "column = 'data_points'\n",
        "\n",
        "df_raw_may[column] = df_raw_may[column] /df_raw_may[column].abs().max()"
      ]
    },
    {
      "cell_type": "code",
      "execution_count": null,
      "metadata": {
        "id": "q2taKs083n6x"
      },
      "outputs": [],
      "source": [
        "# data fields are continuous variables that will need to be normalized.\n",
        "\n",
        "column = 'voice_points'\n",
        "\n",
        "df_raw_may[column] = df_raw_may[column] /df_raw_may[column].abs().max()"
      ]
    },
    {
      "cell_type": "code",
      "execution_count": null,
      "metadata": {
        "id": "4PUaBGac3n6x"
      },
      "outputs": [],
      "source": [
        "# data fields are continuous variables that will need to be normalized.\n",
        "\n",
        "column = 'sms_points'\n",
        "\n",
        "df_raw_may[column] = df_raw_may[column] /df_raw_may[column].abs().max()"
      ]
    },
    {
      "cell_type": "code",
      "execution_count": null,
      "metadata": {
        "id": "8DUE1GJi3n6x"
      },
      "outputs": [],
      "source": [
        "# Flatten the categorical features (where datatype = Object)\n",
        "\n",
        "df_raw_may = pd.get_dummies(df_raw_may, columns=['plantype'])"
      ]
    },
    {
      "cell_type": "code",
      "execution_count": null,
      "metadata": {
        "id": "xiex2B6L6KBb"
      },
      "outputs": [],
      "source": [
        "# Oversample the minority class. This needs to be done after flattening the df to maintain oversampled values.\n",
        "\n",
        "count_class_0, count_class_1 = df_raw_may.churn_flag.value_counts()\n",
        "# Divide by class\n",
        "df_class_0_may = df_raw_may[df_raw_may['churn_flag'] == 0] #majority class\n",
        "df_class_1_may = df_raw_may[df_raw_may['churn_flag'] == 1] #minority class\n",
        "\n",
        "df_class_1_over_may = df_class_1_may.sample(count_class_0, replace=True)\n",
        "df_over_may = pd.concat([df_class_0_may, df_class_1_over_may], axis=0)\n",
        "\n",
        "print('Random over-sampling:')\n",
        "print(df_over_may.churn_flag.value_counts())\n",
        "\n",
        "df_over_may.churn_flag.value_counts().plot(kind='bar', title='Count (target)')\n",
        "\n",
        "plt.style.use('bmh')\n",
        "plt.figure(figsize=(20, 16))\n",
        "\n",
        "plt.show()"
      ]
    },
    {
      "cell_type": "code",
      "execution_count": null,
      "metadata": {
        "id": "PNP2ZK065DCk"
      },
      "outputs": [],
      "source": [
        "# Split into training and testing dataset.\n",
        "\n",
        "train_data_may, test_data_may = train_test_split(df_over_may,train_size=0.1)\n",
        "display(train_data_may)\n",
        "display(test_data_may)"
      ]
    },
    {
      "cell_type": "code",
      "execution_count": null,
      "metadata": {
        "id": "2ixuZ8dk5DCx"
      },
      "outputs": [],
      "source": [
        "# Split the target from the feature for the training data\n",
        "\n",
        "X_train_may = train_data_may.iloc[:,1:]\n",
        "X_train_may.head()"
      ]
    },
    {
      "cell_type": "code",
      "execution_count": null,
      "metadata": {
        "id": "OHyIJmqM5DCx"
      },
      "outputs": [],
      "source": [
        "# Split the target from the feature for the training data\n",
        "\n",
        "y_train_may = train_data_may.iloc[:, [0]]\n",
        "y_train_may.head()"
      ]
    },
    {
      "cell_type": "code",
      "execution_count": null,
      "metadata": {
        "id": "LQIn_9wy5DCx"
      },
      "outputs": [],
      "source": [
        "# Split the target from the feature for the test data\n",
        "\n",
        "X_test_may = test_data_may.iloc[:,1:]\n",
        "X_test_may.head()"
      ]
    },
    {
      "cell_type": "code",
      "execution_count": null,
      "metadata": {
        "id": "TqAmUOKI5DCx"
      },
      "outputs": [],
      "source": [
        "# Split the target from the feature for the test data\n",
        "\n",
        "y_test_may = test_data_may.iloc[:, [0]]\n",
        "y_test_may.head()"
      ]
    },
    {
      "cell_type": "code",
      "execution_count": null,
      "metadata": {
        "id": "sxsA-KnZ5DCx"
      },
      "outputs": [],
      "source": [
        "#Create Decision Tree classifer object\n",
        "\n",
        "model_dtc = DecisionTreeClassifier()"
      ]
    },
    {
      "cell_type": "code",
      "execution_count": null,
      "metadata": {
        "id": "V9T4UsS_5DCx"
      },
      "outputs": [],
      "source": [
        "# Fit and score the model\n",
        "\n",
        "#model_dtc.fit(X_train, y_train.values.ravel())\n",
        "#score_train = model_dtc.score(X_train, y_train)\n",
        "#print(\"score_train: \", score_train)\n",
        "#print(X_train.shape, y_train.shape)"
      ]
    },
    {
      "cell_type": "code",
      "execution_count": null,
      "metadata": {
        "id": "ONUWX0wX5DCy"
      },
      "outputs": [],
      "source": [
        "# Score the test dataset\n",
        "model_dtc.fit(X_test_may, y_test_may.values.ravel())\n",
        "score_test = model_dtc.score(X_test_may, y_test_may)\n",
        "print(\"score_test: \", score_test)"
      ]
    },
    {
      "cell_type": "code",
      "execution_count": null,
      "metadata": {
        "id": "JW5Ig9uQ5DCy"
      },
      "outputs": [],
      "source": [
        "y_pred_may = model_dtc.predict(X_test_may)\n",
        "cm = confusion_matrix(y_test_may, y_pred_may)\n",
        "cr = classification_report(y_test_may, y_pred_may)\n",
        "print(cr)"
      ]
    },
    {
      "cell_type": "code",
      "execution_count": null,
      "metadata": {
        "id": "008PAfatJAFA"
      },
      "outputs": [],
      "source": [
        "# Visualization of SHaP\n",
        "# https://towardsdatascience.com/demystify-your-ml-model-with-shap-fc191a1cb08a\n",
        "\n",
        "model_dtc_p = model_dtc_p.fit(X_train, y_train)\n",
        "\n",
        "exp = TreeExplainer(model_dtc_p)\n",
        "sv = exp.shap_values(X_train)\n",
        "summary_plot(sv[1], X_train, max_display=40)"
      ]
    },
    {
      "cell_type": "markdown",
      "metadata": {
        "id": "BEY4HH6S0gly"
      },
      "source": [
        "It's interesting that while directionaly consistent, ACL+LL differs in impact values from LL+ACP. Perhaps this is an artifact from the stochastic nature of the technique."
      ]
    },
    {
      "cell_type": "markdown",
      "metadata": {
        "id": "y4l_H0IphUAZ"
      },
      "source": [
        "<h2>Recursive Feature Elimination (RFE)</h2><br>\n",
        "https://machinelearningmastery.com/rfe-feature-selection-in-python/<br>\n",
        "https://towardsdatascience.com/powerful-feature-selection-with-recursive-feature-elimination-rfe-of-sklearn-23efb2cdb54e"
      ]
    },
    {
      "cell_type": "markdown",
      "metadata": {
        "id": "WCyxneJVkK6R"
      },
      "source": [
        "The DTC model above reached the following with 6 dimensions<br>\n",
        "SMS, Data, Voice, Age, Eligibility, plantype <br><br>\n",
        "\n",
        "Input deck: qp_model_202301062016.csv<br>\n",
        "HP Tuning: None<br>\n",
        "<table>\n",
        "  <tr>\n",
        "    <td>Class</td>\n",
        "    <td>Recall</td>\n",
        "    <td>Precision</td>\n",
        "    <td>f1-score</td>\n",
        "  </tr>\n",
        "  <tr>\n",
        "    <td>1</td>\n",
        "    <td>0.92</td>\n",
        "    <td>0.83</td>\n",
        "    <td>0.87</td>\n",
        "  </tr>\n",
        "   <tr>\n",
        "    <td>0</td>\n",
        "    <td>0.81</td>\n",
        "    <td>0.92</td>\n",
        "    <td>0.86</td>\n",
        "  </tr>\n",
        "</table>\n",
        "\n"
      ]
    },
    {
      "cell_type": "code",
      "execution_count": null,
      "metadata": {
        "id": "NSIcWmT1BYWf"
      },
      "outputs": [],
      "source": [
        "# evaluate RFE for classification\n",
        "from numpy import mean\n",
        "from numpy import std\n",
        "from sklearn.datasets import make_classification\n",
        "from sklearn.model_selection import cross_val_score\n",
        "from sklearn.model_selection import RepeatedStratifiedKFold\n",
        "from sklearn.feature_selection import RFE\n",
        "from sklearn.tree import DecisionTreeClassifier\n",
        "from sklearn.pipeline import Pipeline\n",
        "# define dataset\n",
        "X, y = make_classification(n_samples=1000, n_features=10, n_informative=5, n_redundant=5, random_state=1)\n",
        "# create pipeline\n",
        "rfe = RFE(estimator=DecisionTreeClassifier(), n_features_to_select=5)\n",
        "model = DecisionTreeClassifier()\n",
        "pipeline = Pipeline(steps=[('s',rfe),('m',model)])\n",
        "# evaluate model\n",
        "cv = RepeatedStratifiedKFold(n_splits=10, n_repeats=3, random_state=1)\n",
        "n_scores = cross_val_score(pipeline, X, y, scoring='accuracy', cv=cv, n_jobs=-1, error_score='raise')\n",
        "# report performance\n",
        "print('Accuracy: %.3f (%.3f)' % (mean(n_scores), std(n_scores)))"
      ]
    },
    {
      "cell_type": "markdown",
      "metadata": {
        "id": "YplVQg4fq1m5"
      },
      "source": [
        "From https://www.activestate.com/blog/top-10-tools-for-hyperparameter-optimization-in-python/\n",
        "The Bayesian-Optimization Library\n",
        "Scikit-Optimize\n",
        "GPyOpt\n",
        "Hyperopt\n",
        "SHERPA\n",
        "Optuna\n",
        "Ray Tune\n",
        "Neural Network Intelligence (NNI)\n",
        "MLMachine\n",
        "Talos\n",
        "GridSearchCV\n",
        "\n",
        "\n"
      ]
    }
  ],
  "metadata": {
    "colab": {
      "provenance": [],
      "mount_file_id": "14eeOjLjhLmVNTrPOGXUvFPbjkXKAlfJe",
      "authorship_tag": "ABX9TyPvOPMyTB+l8gVPsC1fXYxN",
      "include_colab_link": true
    },
    "kernelspec": {
      "display_name": "Python 3",
      "name": "python3"
    },
    "language_info": {
      "name": "python"
    }
  },
  "nbformat": 4,
  "nbformat_minor": 0
}